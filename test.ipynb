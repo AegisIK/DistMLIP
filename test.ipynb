{
 "cells": [
  {
   "cell_type": "code",
   "execution_count": 1,
   "id": "61428510",
   "metadata": {},
   "outputs": [],
   "source": [
    "import DistMLIP\n",
    "from pymatgen.core import Structure\n",
    "from pymatgen.io.ase import AseAtomsAdaptor\n",
    "import numpy as np"
   ]
  },
  {
   "cell_type": "code",
   "execution_count": 2,
   "id": "58213e21",
   "metadata": {},
   "outputs": [],
   "source": [
    "from DistMLIP.distributed.dist import Distributed"
   ]
  },
  {
   "cell_type": "code",
   "execution_count": 3,
   "id": "2bbad11a",
   "metadata": {},
   "outputs": [],
   "source": [
    "LFP = Structure.from_file(\"/data/kevinxhan/dist_chgnet/LiFePO4.cif\")\n",
    "LFP.make_supercell((10, 10, 10))\n",
    "LFP_atoms = AseAtomsAdaptor().get_atoms(LFP)"
   ]
  },
  {
   "cell_type": "code",
   "execution_count": 4,
   "id": "e7cc175b",
   "metadata": {},
   "outputs": [
    {
     "name": "stdout",
     "output_type": "stream",
     "text": [
      "Reallocing # of line graph items for partition 0\n",
      "Reallocing # of line graph items for partition 0\n",
      "Reallocing # of line graph items for partition 0\n",
      "Reallocing # of line graph items for partition 0\n",
      "Reallocing # of line graph items for partition 0\n",
      "Reallocing # of line graph items for partition 0\n",
      "Reallocing # of line graph items for partition 0\n",
      "Reallocing # of line graph items for partition 0\n",
      "Reallocing # of line graph items for partition 0\n",
      "Reallocing # of line graph items for partition 0\n",
      "Reallocing # of line graph items for partition 0\n",
      "Reallocing # of line graph items for partition 0\n",
      "Reallocing # of line graph items for partition 0\n",
      "Reallocing # of line graph items for partition 0\n",
      "Reallocing # of line graph items for partition 0\n",
      "Reallocing # of line graph items for partition 0\n",
      "Reallocing # of line graph items for partition 0\n",
      "Reallocing # of line graph items for partition 0\n",
      "Reallocing # of line graph items for partition 0\n",
      "Reallocing # of line graph items for partition 0\n",
      "Reallocing # of line graph items for partition 0\n",
      "Reallocing # of line graph items for partition 0\n",
      "Reallocing # of line graph items for partition 0\n",
      "Reallocing # of line graph items for partition 0\n",
      "Reallocing # of line graph items for partition 0\n",
      "Reallocing # of line graph items for partition 0\n",
      "Reallocing # of line graph items for partition 0\n",
      "Reallocing # of line graph items for partition 0\n",
      "Reallocing # of line graph items for partition 0\n",
      "Reallocing # of line graph items for partition 0\n",
      "Reallocing # of line graph items for partition 0\n",
      "Reallocing # of line graph items for partition 0\n",
      "Reallocing # of line graph items for partition 0\n",
      "Reallocing # of line graph items for partition 0\n",
      "Reallocing # of line graph items for partition 0\n",
      "Reallocing # of line graph items for partition 0\n",
      "Reallocing # of line graph items for partition 1\n",
      "Reallocing # of line graph items for partition 1\n",
      "Reallocing # of line graph items for partition 1\n",
      "Reallocing # of line graph items for partition 1\n",
      "Reallocing # of line graph items for partition 1\n",
      "Reallocing # of line graph items for partition 1\n",
      "Reallocing # of line graph items for partition 1\n",
      "Reallocing # of line graph items for partition 1\n",
      "Reallocing # of line graph items for partition 1\n",
      "Reallocing # of line graph items for partition 1\n",
      "Reallocing # of line graph items for partition 1\n",
      "Reallocing # of line graph items for partition 1\n",
      "Reallocing # of line graph items for partition 1\n",
      "Reallocing # of line graph items for partition 1\n",
      "Reallocing # of line graph items for partition 1\n",
      "Reallocing # of line graph items for partition 1\n",
      "Reallocing # of line graph items for partition 1\n",
      "Reallocing # of line graph items for partition 1\n",
      "Reallocing # of line graph items for partition 1\n",
      "Reallocing # of line graph items for partition 1\n",
      "Reallocing # of line graph items for partition 1\n",
      "Reallocing # of line graph items for partition 1\n",
      "Reallocing # of line graph items for partition 1\n",
      "Reallocing # of line graph items for partition 1\n",
      "Reallocing # of line graph items for partition 1\n",
      "Reallocing # of line graph items for partition 1\n",
      "Reallocing # of line graph items for partition 1\n",
      "Reallocing # of line graph items for partition 1\n",
      "Reallocing # of line graph items for partition 1\n",
      "Reallocing # of line graph items for partition 1\n",
      "Reallocing # of line graph items for partition 1\n",
      "Reallocing # of line graph items for partition 1\n",
      "Reallocing # of line graph items for partition 1\n",
      "Reallocing # of line graph items for partition 1\n",
      "Reallocing # of line graph items for partition 1\n",
      "Reallocing # of line graph items for partition 1\n"
     ]
    }
   ],
   "source": [
    "lattice_matrix = np.array(LFP_atoms.get_cell())\n",
    "cart_coords = np.array(LFP_atoms.get_positions(wrap=False))\n",
    "frac_coords = np.array(LFP_atoms.get_scaled_positions(wrap=True))\n",
    "\n",
    "pbc = np.array([1, 1, 1], dtype=int)\n",
    "num_partitions = 2\n",
    "\n",
    "dist_info = Distributed.create_distributed(cart_coords=cart_coords,\n",
    "                                            frac_coords=frac_coords,\n",
    "                                            lattice_matrix=lattice_matrix,\n",
    "                                            num_partitions=num_partitions,  \n",
    "                                            pbc=pbc,\n",
    "                                            use_bond_graph=True,\n",
    "                                            cutoff=5,\n",
    "                                            three_body_cutoff=3,\n",
    "                                            tol=1e-8,\n",
    "                                            num_threads=128\n",
    "                                        )"
   ]
  },
  {
   "cell_type": "code",
   "execution_count": 5,
   "id": "a9be2b77",
   "metadata": {},
   "outputs": [
    {
     "data": {
      "text/plain": [
       "Distributed: \n",
       "    Total num atoms: 28000\n",
       "    Total num edges: 1384000\n",
       "    Bond graph exists: True\n",
       "Partition 0:\n",
       "\t# of atom graph nodes: 16300. (2300 border nodes)\n",
       "\t# of atom graph edges: 692000\t# of bond graph nodes: 153700. (21700 border nodes)\n",
       "\t# of bond graph edges: 1148000\n",
       "Partition 1:\n",
       "\t# of atom graph nodes: 16300. (2300 border nodes)\n",
       "\t# of atom graph edges: 692000\t# of bond graph nodes: 153700. (21700 border nodes)\n",
       "\t# of bond graph edges: 1148000"
      ]
     },
     "execution_count": 5,
     "metadata": {},
     "output_type": "execute_result"
    }
   ],
   "source": [
    "dist_info"
   ]
  },
  {
   "cell_type": "code",
   "execution_count": null,
   "id": "41dd03b0",
   "metadata": {},
   "outputs": [],
   "source": []
  }
 ],
 "metadata": {
  "kernelspec": {
   "display_name": "matgl3",
   "language": "python",
   "name": "python3"
  },
  "language_info": {
   "codemirror_mode": {
    "name": "ipython",
    "version": 3
   },
   "file_extension": ".py",
   "mimetype": "text/x-python",
   "name": "python",
   "nbconvert_exporter": "python",
   "pygments_lexer": "ipython3",
   "version": "3.10.16"
  }
 },
 "nbformat": 4,
 "nbformat_minor": 5
}
