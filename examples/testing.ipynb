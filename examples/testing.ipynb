{
 "cells": [
  {
   "cell_type": "code",
   "execution_count": 1,
   "id": "7e73b396",
   "metadata": {},
   "outputs": [
    {
     "name": "stderr",
     "output_type": "stream",
     "text": [
      "/data/kevinxhan/miniconda3/envs/distmlip/lib/python3.10/site-packages/tqdm/auto.py:21: TqdmWarning: IProgress not found. Please update jupyter and ipywidgets. See https://ipywidgets.readthedocs.io/en/stable/user_install.html\n",
      "  from .autonotebook import tqdm as notebook_tqdm\n"
     ]
    }
   ],
   "source": [
    "from DistMLIP.implementations.matgl import CHGNet_Dist, Potential_Dist, MolecularDynamics, Relaxer\n",
    "import matgl\n",
    "from pymatgen.core import Structure, Lattice\n",
    "from pymatgen.io.ase import AseAtomsAdaptor"
   ]
  },
  {
   "cell_type": "code",
   "execution_count": 2,
   "id": "56e81c2c",
   "metadata": {},
   "outputs": [],
   "source": [
    "# Initialize a CHGNet_Dist model (because CHGNet_Dist inherits from matgl's CHGNet class, model finetuning, training, etc. all work the exact same as in MatGL)\n",
    "# However, we recommend using DistMLIP purely as an inference platform\n",
    "model = CHGNet_Dist()\n",
    "\n",
    "# Or load a previously trained CHGNet model\n",
    "model = matgl.load_model(\"CHGNet-MatPES-PBE-2025.2.10-2.7M-PES\").model\n",
    "\n",
    "# Make a distributed version of the model\n",
    "dist_model = CHGNet_Dist.from_existing(model)\n",
    "\n",
    "# Enable distributed mode for 2 GPUs\n",
    "dist_model.enable_distributed_mode([\"cpu\", \"cpu\"])"
   ]
  },
  {
   "cell_type": "code",
   "execution_count": 3,
   "id": "060de261",
   "metadata": {},
   "outputs": [],
   "source": [
    "from ase.io import Trajectory\n",
    "# Create atoms\n",
    "bub_struct = Trajectory(\"/data/shared/Bowen_data/Kevin/gas_bubble.traj\")"
   ]
  },
  {
   "cell_type": "code",
   "execution_count": 4,
   "id": "3135c069",
   "metadata": {},
   "outputs": [],
   "source": [
    "atoms = bub_struct[-1]"
   ]
  },
  {
   "cell_type": "code",
   "execution_count": 5,
   "id": "fd86dd60",
   "metadata": {},
   "outputs": [],
   "source": [
    "# Create Potential_Dist object, use 128 threads when creating graph structures\n",
    "potential = Potential_Dist(model=dist_model, num_threads=128, calc_stresses=False)"
   ]
  },
  {
   "cell_type": "code",
   "execution_count": 6,
   "id": "b43001bd",
   "metadata": {},
   "outputs": [
    {
     "name": "stdout",
     "output_type": "stream",
     "text": [
      "get_subgraphs_fast time:First loop elapsed: 0.166753030 seconds\n",
      " 57.72123825899325\n",
      "Second loop elapsed: 53.188473105 seconds\n",
      "Third loop elapsed: 0.018312382 seconds\n",
      "Fourth loop elapsed: 0.030249282 seconds\n",
      "TIMING: FPIS time: 56.620127\n",
      "TIMING: wrapped frac to wrapped cartesian timing: 0.001310\n",
      "Number of threads: 128\n",
      "Cartesian maxes: 97.120901 97.258467 97.198514\n",
      "Cartesian mins: 0.001316 0.005281 0.002782\n",
      "Fractional longest dim max: 0.999994\n",
      "Fractional longest dim min: 0.000024\n",
      "Longest dim length in fractional coordinates: 0.999970\n",
      "Checking collisions... \n",
      "Dim max: 0.999994. Dim min: 0.000024\n",
      "First wall position: 0.500009\n",
      "Created partition rule\n",
      "Dim to use (based on cartesian coordinates): 1\n",
      "Atom cutoff: 6.000000\n",
      "Number of bonds within atom radius: 9134356\n",
      "Number of bonds within bond radius: 1094244\n",
      "USE_BOND_GRAPH IS 1\n",
      "TIMING: Created partitions and partition rule: 0.000999670\n",
      "First loop within assign_to_partitions_test_2: 0.003944700\n",
      "Second loop in assign_to_partitions_test_2: 0.001003720\n",
      "TIMING: Assigned each node to a partition: 0.004981\n",
      "Calculated # of nodes per partition: 0.000003\n",
      "TIMING: Created global ID array, created global to local edge mappings: 0.000077\n",
      "TIMING: edge assignment time: 0.008110\n",
      "TIMING: Mapping creation time: 0.000220\n",
      "TIMING: Mapping usage time: 0.005890\n",
      "TIMING: Malloc for adjlist time: 0.005104\n",
      "BDE global id after complete iteration through all BDEs: 667673 \n",
      "BDE global id after complete iteration through all BDEs: 669309 \n",
      "TIMING: Created edge table time: 0.201301\n",
      "Localized BDE and created BDE markers\n",
      "Converted global bond mappings into local bond mappings\n",
      "Creating line graph\n",
      "Reallocing # of line graph items for partition 0\n",
      "Reallocing # of line graph items for partition 0\n",
      "Reallocing # of line graph items for partition 0\n",
      "Reallocing # of line graph items for partition 0\n",
      "Reallocing # of line graph items for partition 0\n",
      "Reallocing # of line graph items for partition 1\n",
      "Reallocing # of line graph items for partition 1\n",
      "Reallocing # of line graph items for partition 1\n",
      "Reallocing # of line graph items for partition 1\n",
      "Reallocing # of line graph items for partition 1\n",
      "Reallocing # of line graph items for partition 1\n",
      "Reallocing # of line graph items for partition 1\n",
      "Reallocing # of line graph items for partition 1\n",
      "Reallocing # of line graph items for partition 1\n",
      "Reallocing # of line graph items for partition 1\n",
      "Reallocing # of line graph items for partition 1\n",
      "Reallocing # of line graph items for partition 1\n",
      "Reallocing # of line graph items for partition 1\n",
      "Reallocing # of line graph items for partition 1\n",
      "Reallocing # of line graph items for partition 1\n",
      "Reallocing # of line graph items for partition 1\n",
      "num lines in partition 0: 5766966\n",
      "num lines in partition 1: 5790158\n",
      "first values in line src nodes: 546371, 546371, 546371, 546374\n",
      "TIMING: Created line graph for each gpu: 0.681377\n",
      "TIMING: Misc end tasks: 0.001614\n",
      "TIMING: freed some stuff: 0.070153\n",
      "TIMING: c-level subgraph creation time: 0.987931\n",
      "TIMING: get_features time: 0.987938\n",
      "TIMING: setting and freeing in subgraph_creation_fast: 0.000181\n"
     ]
    },
    {
     "ename": "AssertionError",
     "evalue": "",
     "output_type": "error",
     "traceback": [
      "\u001b[0;31m---------------------------------------------------------------------------\u001b[0m",
      "\u001b[0;31mAssertionError\u001b[0m                            Traceback (most recent call last)",
      "Cell \u001b[0;32mIn[6], line 2\u001b[0m\n\u001b[1;32m      1\u001b[0m \u001b[38;5;66;03m# atoms = AseAtomsAdaptor().get_atoms(bub_struct)\u001b[39;00m\n\u001b[0;32m----> 2\u001b[0m a \u001b[38;5;241m=\u001b[39m \u001b[43mpotential\u001b[49m\u001b[43m(\u001b[49m\u001b[43matoms\u001b[49m\u001b[43m)\u001b[49m\n",
      "File \u001b[0;32m/data/kevinxhan/miniconda3/envs/distmlip/lib/python3.10/site-packages/torch/nn/modules/module.py:1751\u001b[0m, in \u001b[0;36mModule._wrapped_call_impl\u001b[0;34m(self, *args, **kwargs)\u001b[0m\n\u001b[1;32m   1749\u001b[0m     \u001b[38;5;28;01mreturn\u001b[39;00m \u001b[38;5;28mself\u001b[39m\u001b[38;5;241m.\u001b[39m_compiled_call_impl(\u001b[38;5;241m*\u001b[39margs, \u001b[38;5;241m*\u001b[39m\u001b[38;5;241m*\u001b[39mkwargs)  \u001b[38;5;66;03m# type: ignore[misc]\u001b[39;00m\n\u001b[1;32m   1750\u001b[0m \u001b[38;5;28;01melse\u001b[39;00m:\n\u001b[0;32m-> 1751\u001b[0m     \u001b[38;5;28;01mreturn\u001b[39;00m \u001b[38;5;28;43mself\u001b[39;49m\u001b[38;5;241;43m.\u001b[39;49m\u001b[43m_call_impl\u001b[49m\u001b[43m(\u001b[49m\u001b[38;5;241;43m*\u001b[39;49m\u001b[43margs\u001b[49m\u001b[43m,\u001b[49m\u001b[43m \u001b[49m\u001b[38;5;241;43m*\u001b[39;49m\u001b[38;5;241;43m*\u001b[39;49m\u001b[43mkwargs\u001b[49m\u001b[43m)\u001b[49m\n",
      "File \u001b[0;32m/data/kevinxhan/miniconda3/envs/distmlip/lib/python3.10/site-packages/torch/nn/modules/module.py:1762\u001b[0m, in \u001b[0;36mModule._call_impl\u001b[0;34m(self, *args, **kwargs)\u001b[0m\n\u001b[1;32m   1757\u001b[0m \u001b[38;5;66;03m# If we don't have any hooks, we want to skip the rest of the logic in\u001b[39;00m\n\u001b[1;32m   1758\u001b[0m \u001b[38;5;66;03m# this function, and just call forward.\u001b[39;00m\n\u001b[1;32m   1759\u001b[0m \u001b[38;5;28;01mif\u001b[39;00m \u001b[38;5;129;01mnot\u001b[39;00m (\u001b[38;5;28mself\u001b[39m\u001b[38;5;241m.\u001b[39m_backward_hooks \u001b[38;5;129;01mor\u001b[39;00m \u001b[38;5;28mself\u001b[39m\u001b[38;5;241m.\u001b[39m_backward_pre_hooks \u001b[38;5;129;01mor\u001b[39;00m \u001b[38;5;28mself\u001b[39m\u001b[38;5;241m.\u001b[39m_forward_hooks \u001b[38;5;129;01mor\u001b[39;00m \u001b[38;5;28mself\u001b[39m\u001b[38;5;241m.\u001b[39m_forward_pre_hooks\n\u001b[1;32m   1760\u001b[0m         \u001b[38;5;129;01mor\u001b[39;00m _global_backward_pre_hooks \u001b[38;5;129;01mor\u001b[39;00m _global_backward_hooks\n\u001b[1;32m   1761\u001b[0m         \u001b[38;5;129;01mor\u001b[39;00m _global_forward_hooks \u001b[38;5;129;01mor\u001b[39;00m _global_forward_pre_hooks):\n\u001b[0;32m-> 1762\u001b[0m     \u001b[38;5;28;01mreturn\u001b[39;00m \u001b[43mforward_call\u001b[49m\u001b[43m(\u001b[49m\u001b[38;5;241;43m*\u001b[39;49m\u001b[43margs\u001b[49m\u001b[43m,\u001b[49m\u001b[43m \u001b[49m\u001b[38;5;241;43m*\u001b[39;49m\u001b[38;5;241;43m*\u001b[39;49m\u001b[43mkwargs\u001b[49m\u001b[43m)\u001b[49m\n\u001b[1;32m   1764\u001b[0m result \u001b[38;5;241m=\u001b[39m \u001b[38;5;28;01mNone\u001b[39;00m\n\u001b[1;32m   1765\u001b[0m called_always_called_hooks \u001b[38;5;241m=\u001b[39m \u001b[38;5;28mset\u001b[39m()\n",
      "File \u001b[0;32m/data/kevinxhan/DistMLIP/DistMLIP/implementations/matgl/pes.py:86\u001b[0m, in \u001b[0;36mPotential_Dist.forward\u001b[0;34m(self, atoms, state_attr, tol)\u001b[0m\n\u001b[1;32m     73\u001b[0m num_partitions \u001b[38;5;241m=\u001b[39m \u001b[38;5;28mlen\u001b[39m(\u001b[38;5;28mself\u001b[39m\u001b[38;5;241m.\u001b[39mmodel\u001b[38;5;241m.\u001b[39mgpus)\n\u001b[1;32m     74\u001b[0m dist_info \u001b[38;5;241m=\u001b[39m Distributed\u001b[38;5;241m.\u001b[39mcreate_distributed(cart_coords\u001b[38;5;241m=\u001b[39mcart_coords,\n\u001b[1;32m     75\u001b[0m                                             frac_coords\u001b[38;5;241m=\u001b[39mfrac_coords,\n\u001b[1;32m     76\u001b[0m                                             lattice_matrix\u001b[38;5;241m=\u001b[39mlattice_matrix,\n\u001b[0;32m   (...)\u001b[0m\n\u001b[1;32m     83\u001b[0m                                             num_threads\u001b[38;5;241m=\u001b[39mnum_threads\n\u001b[1;32m     84\u001b[0m                                         )\n\u001b[0;32m---> 86\u001b[0m \u001b[38;5;28;01massert\u001b[39;00m \u001b[38;5;28;01mFalse\u001b[39;00m\n\u001b[1;32m     87\u001b[0m model_out \u001b[38;5;241m=\u001b[39m \u001b[38;5;28mself\u001b[39m\u001b[38;5;241m.\u001b[39mmodel\u001b[38;5;241m.\u001b[39mpotential_forward_dist(\n\u001b[1;32m     88\u001b[0m     dist_info,\n\u001b[1;32m     89\u001b[0m     atoms,\n\u001b[0;32m   (...)\u001b[0m\n\u001b[1;32m     94\u001b[0m     state_attr\n\u001b[1;32m     95\u001b[0m )\n\u001b[1;32m     97\u001b[0m \u001b[38;5;28;01mif\u001b[39;00m \u001b[38;5;28mself\u001b[39m\u001b[38;5;241m.\u001b[39mdebug_mode:\n",
      "\u001b[0;31mAssertionError\u001b[0m: "
     ]
    }
   ],
   "source": [
    "# atoms = AseAtomsAdaptor().get_atoms(bub_struct)\n",
    "a = potential(atoms)"
   ]
  },
  {
   "cell_type": "code",
   "execution_count": null,
   "id": "48f39ea1",
   "metadata": {},
   "outputs": [],
   "source": [
    "#TODO (7.12.2025) LEFT OFF HERE: need to figure out why loop 2 is taking up so much time. I think it's a load balacning issue\n",
    "# I've asked r1, we'll see what it says"
   ]
  }
 ],
 "metadata": {
  "kernelspec": {
   "display_name": "distmlip",
   "language": "python",
   "name": "python3"
  },
  "language_info": {
   "codemirror_mode": {
    "name": "ipython",
    "version": 3
   },
   "file_extension": ".py",
   "mimetype": "text/x-python",
   "name": "python",
   "nbconvert_exporter": "python",
   "pygments_lexer": "ipython3",
   "version": "3.10.16"
  }
 },
 "nbformat": 4,
 "nbformat_minor": 5
}
