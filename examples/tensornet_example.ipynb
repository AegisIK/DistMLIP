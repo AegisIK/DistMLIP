{
 "cells": [
  {
   "cell_type": "code",
   "execution_count": null,
   "id": "91e7a883",
   "metadata": {},
   "outputs": [],
   "source": [
    "from DistMLIP.implementations.matgl import TensorNet_Dist, Potential_Dist, MolecularDynamics, Relaxer\n",
    "import matgl\n",
    "from pymatgen.core import Structure, Lattice\n",
    "from pymatgen.io.ase import AseAtomsAdaptor"
   ]
  },
  {
   "cell_type": "code",
   "execution_count": null,
   "id": "6dcdd6a0",
   "metadata": {},
   "outputs": [],
   "source": [
    "# Initialize a CHGNet_Dist model \n",
    "# because CHGNet_Dist inherits from matgl's CHGNet class: model finetuning, training, etc. all work the exact same as in MatGL\n",
    "model = TensorNet_Dist()\n",
    "\n",
    "# Load a previous CHGNet model from matgl\n",
    "model = matgl.load_model(\"TensorNet-MatPES-PBE-v2025.1-PES\").model\n",
    "\n",
    "# Make a distributed version of the model\n",
    "dist_model = TensorNet_Dist.from_existing(model)\n",
    "\n",
    "# Enable distributed mode for 2 GPUs\n",
    "dist_model.enable_distributed_mode([0, 1])"
   ]
  },
  {
   "cell_type": "code",
   "execution_count": null,
   "id": "8c958763",
   "metadata": {},
   "outputs": [],
   "source": [
    "# Insert your atoms\n",
    "struct = Structure.from_spacegroup(\"Pm-3m\", Lattice.cubic(5.5), [\"Li\", \"Mn\"], [[0, 0, 0], [0.5, 0.5, 0.5]])\n",
    "struct.perturb(0.5)\n",
    "struct.make_supercell((20, 20, 20))\n",
    "print(f\"There are {len(struct)} atoms.\")\n",
    "atoms = AseAtomsAdaptor().get_atoms(struct)"
   ]
  },
  {
   "cell_type": "code",
   "execution_count": null,
   "id": "385bb6f3",
   "metadata": {},
   "outputs": [],
   "source": [
    "# Create Potential_Dist object, use 128 threads when creating graph structures\n",
    "potential = Potential_Dist(model=dist_model, num_threads=128)"
   ]
  },
  {
   "cell_type": "code",
   "execution_count": null,
   "id": "b6585040",
   "metadata": {},
   "outputs": [],
   "source": [
    "# Perform static point calculation\n",
    "output = potential(atoms)"
   ]
  },
  {
   "cell_type": "code",
   "execution_count": null,
   "id": "d827df2f",
   "metadata": {},
   "outputs": [],
   "source": [
    "# Run structure relaxation\n",
    "relaxer = Relaxer(\n",
    "    potential=potential,\n",
    "    optimizer=\"FIRE\",\n",
    "    relax_cell=True\n",
    ")\n",
    "\n",
    "results = relaxer.relax(atoms, verbose=True, steps=200)"
   ]
  },
  {
   "cell_type": "code",
   "execution_count": null,
   "id": "79bd5c4d",
   "metadata": {},
   "outputs": [],
   "source": [
    "# Run molecular dynamics\n",
    "driver = MolecularDynamics(\n",
    "    atoms,\n",
    "    potential=potential,\n",
    "    timestep=0.5,\n",
    "    temperature=300,\n",
    "    loginterval=200,\n",
    "    logfile=\"logfile.log\",\n",
    "    trajectory=\"traj.trj\"\n",
    ")\n",
    "\n",
    "driver.run(20)"
   ]
  }
 ],
 "metadata": {
  "kernelspec": {
   "display_name": "distmlip",
   "language": "python",
   "name": "python3"
  },
  "language_info": {
   "codemirror_mode": {
    "name": "ipython",
    "version": 3
   },
   "file_extension": ".py",
   "mimetype": "text/x-python",
   "name": "python",
   "nbconvert_exporter": "python",
   "pygments_lexer": "ipython3",
   "version": "3.10.16"
  }
 },
 "nbformat": 4,
 "nbformat_minor": 5
}
