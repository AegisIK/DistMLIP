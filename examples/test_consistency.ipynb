{
 "cells": [
  {
   "cell_type": "code",
   "execution_count": null,
   "id": "829ccb76",
   "metadata": {},
   "outputs": [],
   "source": [
    "from DistMLIP.implementations.matgl import TensorNet_Dist, Potential_Dist, MolecularDynamics, Relaxer\n",
    "import matgl\n",
    "from pymatgen.core import Structure, Lattice\n",
    "from pymatgen.io.ase import AseAtomsAdaptor"
   ]
  },
  {
   "cell_type": "code",
   "execution_count": null,
   "id": "6b6a7efc",
   "metadata": {},
   "outputs": [],
   "source": [
    "# Initialize a CHGNet_Dist model (because CHGNet_Dist inherits from matgl's CHGNet class, model finetuning, training, etc. all work the exact same as in MatGL)\n",
    "# However, we recommend using DistMLIP purely as an inference platform\n",
    "model = CHGNet_Dist()\n",
    "\n",
    "# Or load a previously trained CHGNet model\n",
    "model = matgl.load_model(\"TensorNet-MatPES-PBE-v2025.1-PES\").model\n",
    "\n",
    "# Make a distributed version of the model\n",
    "dist_model = TensorNet_Dist.from_existing(model)\n",
    "\n",
    "# Enable distributed mode for 2 GPUs\n",
    "dist_model.enable_distributed_mode([\"cpu\", \"cpu\"])"
   ]
  },
  {
   "cell_type": "code",
   "execution_count": null,
   "id": "c7665826",
   "metadata": {},
   "outputs": [],
   "source": [
    "# Insert your atoms\n",
    "struct = Structure.from_spacegroup(\"Pm-3m\", Lattice.cubic(3.5), [\"Li\", \"Mn\"], [[0, 0, 0], [0.5, 0.5, 0.5]])\n",
    "struct.perturb(1)\n",
    "struct.make_supercell((13, 7, 7))\n",
    "print(f\"There are {len(struct)} atoms.\")\n",
    "atoms = AseAtomsAdaptor().get_atoms(struct)"
   ]
  },
  {
   "cell_type": "code",
   "execution_count": null,
   "id": "466cfcfe",
   "metadata": {},
   "outputs": [],
   "source": [
    "# Create Potential_Dist object, use 128 threads when creating graph structures\n",
    "potential = Potential_Dist(model=dist_model, num_threads=128, calc_stresses=True)"
   ]
  },
  {
   "cell_type": "code",
   "execution_count": null,
   "id": "9986347c",
   "metadata": {},
   "outputs": [],
   "source": [
    "# Perform static point calculation\n",
    "results = potential(atoms)"
   ]
  },
  {
   "cell_type": "code",
   "execution_count": null,
   "id": "fc777e81",
   "metadata": {},
   "outputs": [],
   "source": [
    "from matgl.apps.pes import Potential\n",
    "from matgl.ext.ase import PESCalculator\n",
    "model = matgl.load_model(\"TensorNet-MatPES-PBE-v2025.1-PES\").model\n",
    "base_pes = Potential(model)\n",
    "base_calc = PESCalculator(base_pes)"
   ]
  },
  {
   "cell_type": "code",
   "execution_count": null,
   "id": "d9407a24",
   "metadata": {},
   "outputs": [],
   "source": [
    "base_calc.calculate(atoms=atoms)"
   ]
  },
  {
   "cell_type": "code",
   "execution_count": null,
   "id": "a46d3c20",
   "metadata": {},
   "outputs": [],
   "source": [
    "base_calc.results['energy'], results[0]"
   ]
  },
  {
   "cell_type": "code",
   "execution_count": null,
   "id": "049c1f58",
   "metadata": {},
   "outputs": [],
   "source": [
    "base_calc.results['forces'], results[1]"
   ]
  },
  {
   "cell_type": "code",
   "execution_count": null,
   "id": "dbaa38fe",
   "metadata": {},
   "outputs": [],
   "source": []
  }
 ],
 "metadata": {
  "kernelspec": {
   "display_name": "distmlip",
   "language": "python",
   "name": "python3"
  },
  "language_info": {
   "codemirror_mode": {
    "name": "ipython",
    "version": 3
   },
   "file_extension": ".py",
   "mimetype": "text/x-python",
   "name": "python",
   "nbconvert_exporter": "python",
   "pygments_lexer": "ipython3",
   "version": "3.10.16"
  }
 },
 "nbformat": 4,
 "nbformat_minor": 5
}
