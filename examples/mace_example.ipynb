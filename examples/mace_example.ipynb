{
 "cells": [
  {
   "cell_type": "code",
   "execution_count": 1,
   "id": "b99feb0b",
   "metadata": {},
   "outputs": [
    {
     "name": "stderr",
     "output_type": "stream",
     "text": [
      "/data/kevinxhan/miniconda3/envs/distmlip/lib/python3.10/site-packages/e3nn/o3/_wigner.py:10: UserWarning: Environment variable TORCH_FORCE_NO_WEIGHTS_ONLY_LOAD detected, since the`weights_only` argument was not explicitly passed to `torch.load`, forcing weights_only=False.\n",
      "  _Jd, _W3j_flat, _W3j_indices = torch.load(os.path.join(os.path.dirname(__file__), 'constants.pt'))\n"
     ]
    }
   ],
   "source": [
    "from DistMLIP.implementations.mace import MACECalculator_Dist\n",
    "from mace.calculators import mace_mp\n",
    "\n",
    "import matgl\n",
    "from pymatgen.core import Structure, Lattice\n",
    "from pymatgen.io.ase import AseAtomsAdaptor\n",
    "\n",
    "import os"
   ]
  },
  {
   "cell_type": "code",
   "execution_count": 2,
   "id": "a191b443",
   "metadata": {},
   "outputs": [
    {
     "name": "stdout",
     "output_type": "stream",
     "text": [
      "There are 54000 atoms.\n"
     ]
    }
   ],
   "source": [
    "# Insert your atoms\n",
    "struct = Structure.from_spacegroup(\"Pm-3m\", Lattice.cubic(3.5), [\"Li\", \"Mn\"], [[0, 0, 0], [0.5, 0.5, 0.5]])\n",
    "struct.perturb(0.5)\n",
    "struct.make_supercell((30, 30, 30))\n",
    "print(f\"There are {len(struct)} atoms.\")\n",
    "atoms = AseAtomsAdaptor().get_atoms(struct)"
   ]
  },
  {
   "cell_type": "code",
   "execution_count": 3,
   "id": "7ea05d59",
   "metadata": {},
   "outputs": [
    {
     "name": "stdout",
     "output_type": "stream",
     "text": [
      "Using Materials Project MACE for MACECalculator with /home/kevinxhan/.cache/mace/20231210mace128L0_energy_epoch249model\n",
      "Using float32 for MACECalculator, which is faster but less accurate. Recommended for MD. Use float64 for geometry optimization.\n",
      "Using head Default out of ['Default']\n",
      "Default dtype float32 does not match model dtype float64, converting models to float32.\n"
     ]
    },
    {
     "name": "stderr",
     "output_type": "stream",
     "text": [
      "/data/kevinxhan/miniconda3/envs/distmlip/lib/python3.10/site-packages/mace/calculators/mace.py:139: UserWarning: Environment variable TORCH_FORCE_NO_WEIGHTS_ONLY_LOAD detected, since the`weights_only` argument was not explicitly passed to `torch.load`, forcing weights_only=False.\n",
      "  torch.load(f=model_path, map_location=device)\n"
     ]
    }
   ],
   "source": [
    "# Load/create a previously trained MACECalculator on cpu\n",
    "from mace.calculators import mace_mp\n",
    "\n",
    "calc = mace_mp(model=\"small\", device=\"cpu\")\n",
    "\n",
    "# Make a distributed version of the calculator \n",
    "dist_calc = MACECalculator_Dist.from_existing(calc)\n",
    "# Enable distributed mode and specify the GPUs to use\n",
    "dist_calc.enable_distributed_mode([0, 1])\n"
   ]
  },
  {
   "cell_type": "code",
   "execution_count": 5,
   "id": "25de0c35",
   "metadata": {},
   "outputs": [
    {
     "name": "stdout",
     "output_type": "stream",
     "text": [
      "Failed to parse input arguments. Inputs should be of the following format: double[:, ::1] all_coords, double r, long[::1] pbc, const double[:, ::1] lattice, int num_nodes, unsigned int num_partitions, double bond_r=3.0, double tol=1e-8, int number_of_threads=256, bint use_bond_graph=True, frac_coords\n"
     ]
    },
    {
     "ename": "TypeError",
     "evalue": "'str' object cannot be interpreted as an integer",
     "output_type": "error",
     "traceback": [
      "\u001b[0;31m---------------------------------------------------------------------------\u001b[0m",
      "\u001b[0;31mTypeError\u001b[0m                                 Traceback (most recent call last)",
      "Cell \u001b[0;32mIn[5], line 5\u001b[0m\n\u001b[1;32m      2\u001b[0m os\u001b[38;5;241m.\u001b[39menviron[\u001b[38;5;124m\"\u001b[39m\u001b[38;5;124mDISTMLIP_NUM_THREADS\u001b[39m\u001b[38;5;124m\"\u001b[39m] \u001b[38;5;241m=\u001b[39m \u001b[38;5;124m\"\u001b[39m\u001b[38;5;124m8\u001b[39m\u001b[38;5;124m\"\u001b[39m\n\u001b[1;32m      4\u001b[0m \u001b[38;5;66;03m# Performing a static calculation on the ASE atoms object\u001b[39;00m\n\u001b[0;32m----> 5\u001b[0m \u001b[43mdist_calc\u001b[49m\u001b[38;5;241;43m.\u001b[39;49m\u001b[43mcalculate\u001b[49m\u001b[43m(\u001b[49m\u001b[43matoms\u001b[49m\u001b[43m)\u001b[49m\n\u001b[1;32m      7\u001b[0m \u001b[38;5;66;03m# Retrieiving results\u001b[39;00m\n\u001b[1;32m      8\u001b[0m dist_calc\u001b[38;5;241m.\u001b[39mresults[\u001b[38;5;124m'\u001b[39m\u001b[38;5;124menergy\u001b[39m\u001b[38;5;124m'\u001b[39m], dist_calc\u001b[38;5;241m.\u001b[39mresults[\u001b[38;5;124m'\u001b[39m\u001b[38;5;124mforces\u001b[39m\u001b[38;5;124m'\u001b[39m]\n",
      "File \u001b[0;32m/data/kevinxhan/DistMLIP/DistMLIP/implementations/mace/mace.py:72\u001b[0m, in \u001b[0;36mMACECalculator_Dist.calculate\u001b[0;34m(self, atoms, properties, system_changes, dist_inference, debug)\u001b[0m\n\u001b[1;32m     69\u001b[0m \u001b[38;5;28;01mif\u001b[39;00m dist_inference:\n\u001b[1;32m     70\u001b[0m     \u001b[38;5;28;01massert\u001b[39;00m \u001b[38;5;28mhasattr\u001b[39m(\u001b[38;5;28mself\u001b[39m, \u001b[38;5;124m\"\u001b[39m\u001b[38;5;124mdist_enabled\u001b[39m\u001b[38;5;124m\"\u001b[39m) \u001b[38;5;129;01mand\u001b[39;00m \u001b[38;5;28mself\u001b[39m\u001b[38;5;241m.\u001b[39mdist_enabled, \u001b[38;5;124m\"\u001b[39m\u001b[38;5;124mMust call enable_distributed_mode before running distributed inference\u001b[39m\u001b[38;5;124m\"\u001b[39m\n\u001b[0;32m---> 72\u001b[0m batch_base, dist_info \u001b[38;5;241m=\u001b[39m \u001b[38;5;28;43mself\u001b[39;49m\u001b[38;5;241;43m.\u001b[39;49m\u001b[43m_atoms_to_batch\u001b[49m\u001b[43m(\u001b[49m\u001b[43matoms\u001b[49m\u001b[43m,\u001b[49m\u001b[43m \u001b[49m\u001b[43mdist_inference\u001b[49m\u001b[43m)\u001b[49m\n\u001b[1;32m     74\u001b[0m \u001b[38;5;28;01mif\u001b[39;00m \u001b[38;5;28mself\u001b[39m\u001b[38;5;241m.\u001b[39mmodel_type \u001b[38;5;129;01min\u001b[39;00m [\u001b[38;5;124m\"\u001b[39m\u001b[38;5;124mMACE\u001b[39m\u001b[38;5;124m\"\u001b[39m, \u001b[38;5;124m\"\u001b[39m\u001b[38;5;124mEnergyDipoleMACE\u001b[39m\u001b[38;5;124m\"\u001b[39m]:\n\u001b[1;32m     75\u001b[0m     batch \u001b[38;5;241m=\u001b[39m \u001b[38;5;28mself\u001b[39m\u001b[38;5;241m.\u001b[39m_clone_batch(batch_base)\n",
      "File \u001b[0;32m/data/kevinxhan/DistMLIP/DistMLIP/implementations/mace/mace.py:32\u001b[0m, in \u001b[0;36mMACECalculator_Dist._atoms_to_batch\u001b[0;34m(self, atoms, dist_inference)\u001b[0m\n\u001b[1;32m     27\u001b[0m config \u001b[38;5;241m=\u001b[39m data\u001b[38;5;241m.\u001b[39mconfig_from_atoms(\n\u001b[1;32m     28\u001b[0m     atoms, key_specification\u001b[38;5;241m=\u001b[39mkeyspec, head_name\u001b[38;5;241m=\u001b[39m\u001b[38;5;28mself\u001b[39m\u001b[38;5;241m.\u001b[39mhead\n\u001b[1;32m     29\u001b[0m )\n\u001b[1;32m     31\u001b[0m \u001b[38;5;28;01mif\u001b[39;00m dist_inference:\n\u001b[0;32m---> 32\u001b[0m     atomic_data, dist_info \u001b[38;5;241m=\u001b[39m \u001b[43mAtomicData_Dist\u001b[49m\u001b[38;5;241;43m.\u001b[39;49m\u001b[43mfrom_config\u001b[49m\u001b[43m(\u001b[49m\n\u001b[1;32m     33\u001b[0m \u001b[43m            \u001b[49m\u001b[43mconfig\u001b[49m\u001b[43m,\u001b[49m\n\u001b[1;32m     34\u001b[0m \u001b[43m            \u001b[49m\u001b[43mz_table\u001b[49m\u001b[38;5;241;43m=\u001b[39;49m\u001b[38;5;28;43mself\u001b[39;49m\u001b[38;5;241;43m.\u001b[39;49m\u001b[43mz_table\u001b[49m\u001b[43m,\u001b[49m\n\u001b[1;32m     35\u001b[0m \u001b[43m            \u001b[49m\u001b[43mcutoff\u001b[49m\u001b[38;5;241;43m=\u001b[39;49m\u001b[38;5;28;43mself\u001b[39;49m\u001b[38;5;241;43m.\u001b[39;49m\u001b[43mr_max\u001b[49m\u001b[43m,\u001b[49m\n\u001b[1;32m     36\u001b[0m \u001b[43m            \u001b[49m\u001b[43mheads\u001b[49m\u001b[38;5;241;43m=\u001b[39;49m\u001b[38;5;28;43mself\u001b[39;49m\u001b[38;5;241;43m.\u001b[39;49m\u001b[43mavailable_heads\u001b[49m\u001b[43m,\u001b[49m\n\u001b[1;32m     37\u001b[0m \u001b[43m            \u001b[49m\u001b[43mdist_inference\u001b[49m\u001b[38;5;241;43m=\u001b[39;49m\u001b[38;5;28;43;01mTrue\u001b[39;49;00m\u001b[43m,\u001b[49m\n\u001b[1;32m     38\u001b[0m \u001b[43m            \u001b[49m\u001b[43mnum_partitions\u001b[49m\u001b[38;5;241;43m=\u001b[39;49m\u001b[38;5;28;43mlen\u001b[39;49m\u001b[43m(\u001b[49m\u001b[38;5;28;43mself\u001b[39;49m\u001b[38;5;241;43m.\u001b[39;49m\u001b[43mgpus\u001b[49m\u001b[43m)\u001b[49m\n\u001b[1;32m     39\u001b[0m \u001b[43m        \u001b[49m\u001b[43m)\u001b[49m\n\u001b[1;32m     40\u001b[0m \u001b[38;5;28;01melse\u001b[39;00m:\n\u001b[1;32m     41\u001b[0m     atomic_data \u001b[38;5;241m=\u001b[39m data\u001b[38;5;241m.\u001b[39mAtomicData\u001b[38;5;241m.\u001b[39mfrom_config(\n\u001b[1;32m     42\u001b[0m                 config,\n\u001b[1;32m     43\u001b[0m                 z_table\u001b[38;5;241m=\u001b[39m\u001b[38;5;28mself\u001b[39m\u001b[38;5;241m.\u001b[39mz_table,\n\u001b[1;32m     44\u001b[0m                 cutoff\u001b[38;5;241m=\u001b[39m\u001b[38;5;28mself\u001b[39m\u001b[38;5;241m.\u001b[39mr_max,\n\u001b[1;32m     45\u001b[0m                 heads\u001b[38;5;241m=\u001b[39m\u001b[38;5;28mself\u001b[39m\u001b[38;5;241m.\u001b[39mavailable_heads,\n\u001b[1;32m     46\u001b[0m             )\n",
      "File \u001b[0;32m/data/kevinxhan/DistMLIP/DistMLIP/implementations/mace/mace_utils.py:191\u001b[0m, in \u001b[0;36mAtomicData_Dist.from_config\u001b[0;34m(cls, config, z_table, cutoff, heads, **kwargs)\u001b[0m\n\u001b[1;32m    188\u001b[0m     heads \u001b[38;5;241m=\u001b[39m [\u001b[38;5;124m\"\u001b[39m\u001b[38;5;124mDefault\u001b[39m\u001b[38;5;124m\"\u001b[39m]\n\u001b[1;32m    190\u001b[0m \u001b[38;5;28;01mif\u001b[39;00m kwargs\u001b[38;5;241m.\u001b[39mget(\u001b[38;5;124m\"\u001b[39m\u001b[38;5;124mdist_inference\u001b[39m\u001b[38;5;124m\"\u001b[39m, \u001b[38;5;28;01mFalse\u001b[39;00m):\n\u001b[0;32m--> 191\u001b[0m     edge_index, shifts, unit_shifts, cell, dist_info \u001b[38;5;241m=\u001b[39m \u001b[43mget_neighborhood_dist\u001b[49m\u001b[43m(\u001b[49m\n\u001b[1;32m    192\u001b[0m \u001b[43m        \u001b[49m\u001b[43mpositions\u001b[49m\u001b[38;5;241;43m=\u001b[39;49m\u001b[43mconfig\u001b[49m\u001b[38;5;241;43m.\u001b[39;49m\u001b[43mpositions\u001b[49m\u001b[43m,\u001b[49m\n\u001b[1;32m    193\u001b[0m \u001b[43m        \u001b[49m\u001b[43mcutoff\u001b[49m\u001b[38;5;241;43m=\u001b[39;49m\u001b[43mcutoff\u001b[49m\u001b[43m,\u001b[49m\n\u001b[1;32m    194\u001b[0m \u001b[43m        \u001b[49m\u001b[43mpbc\u001b[49m\u001b[38;5;241;43m=\u001b[39;49m\u001b[43mdeepcopy\u001b[49m\u001b[43m(\u001b[49m\u001b[43mconfig\u001b[49m\u001b[38;5;241;43m.\u001b[39;49m\u001b[43mpbc\u001b[49m\u001b[43m)\u001b[49m\u001b[43m,\u001b[49m\n\u001b[1;32m    195\u001b[0m \u001b[43m        \u001b[49m\u001b[43mcell\u001b[49m\u001b[38;5;241;43m=\u001b[39;49m\u001b[43mdeepcopy\u001b[49m\u001b[43m(\u001b[49m\u001b[43mconfig\u001b[49m\u001b[38;5;241;43m.\u001b[39;49m\u001b[43mcell\u001b[49m\u001b[43m)\u001b[49m\u001b[43m,\u001b[49m\n\u001b[1;32m    196\u001b[0m \u001b[43m        \u001b[49m\u001b[43mnum_partitions\u001b[49m\u001b[38;5;241;43m=\u001b[39;49m\u001b[43mkwargs\u001b[49m\u001b[38;5;241;43m.\u001b[39;49m\u001b[43mget\u001b[49m\u001b[43m(\u001b[49m\u001b[38;5;124;43m\"\u001b[39;49m\u001b[38;5;124;43mnum_partitions\u001b[39;49m\u001b[38;5;124;43m\"\u001b[39;49m\u001b[43m)\u001b[49m\n\u001b[1;32m    197\u001b[0m \u001b[43m    \u001b[49m\u001b[43m)\u001b[49m\n\u001b[1;32m    198\u001b[0m \u001b[38;5;28;01melse\u001b[39;00m:\n\u001b[1;32m    199\u001b[0m     edge_index, shifts, unit_shifts, cell \u001b[38;5;241m=\u001b[39m get_neighborhood(\n\u001b[1;32m    200\u001b[0m         positions\u001b[38;5;241m=\u001b[39mconfig\u001b[38;5;241m.\u001b[39mpositions,\n\u001b[1;32m    201\u001b[0m         cutoff\u001b[38;5;241m=\u001b[39mcutoff,\n\u001b[1;32m    202\u001b[0m         pbc\u001b[38;5;241m=\u001b[39mdeepcopy(config\u001b[38;5;241m.\u001b[39mpbc),\n\u001b[1;32m    203\u001b[0m         cell\u001b[38;5;241m=\u001b[39mdeepcopy(config\u001b[38;5;241m.\u001b[39mcell),\n\u001b[1;32m    204\u001b[0m     )\n",
      "File \u001b[0;32m/data/kevinxhan/DistMLIP/DistMLIP/implementations/mace/mace_utils.py:59\u001b[0m, in \u001b[0;36mget_neighborhood_dist\u001b[0;34m(positions, cutoff, pbc, cell, true_self_interaction, num_partitions)\u001b[0m\n\u001b[1;32m     56\u001b[0m     cell[\u001b[38;5;241m2\u001b[39m, :] \u001b[38;5;241m=\u001b[39m max_positions \u001b[38;5;241m*\u001b[39m \u001b[38;5;241m5\u001b[39m \u001b[38;5;241m*\u001b[39m cutoff \u001b[38;5;241m*\u001b[39m identity[\u001b[38;5;241m2\u001b[39m, :]\n\u001b[1;32m     58\u001b[0m pbc \u001b[38;5;241m=\u001b[39m np\u001b[38;5;241m.\u001b[39marray(pbc, dtype\u001b[38;5;241m=\u001b[39mnp\u001b[38;5;241m.\u001b[39mint64)\n\u001b[0;32m---> 59\u001b[0m dist_info \u001b[38;5;241m=\u001b[39m \u001b[43mDistributed\u001b[49m\u001b[38;5;241;43m.\u001b[39;49m\u001b[43mcreate_distributed\u001b[49m\u001b[43m(\u001b[49m\n\u001b[1;32m     60\u001b[0m \u001b[43m    \u001b[49m\u001b[43mcart_coords\u001b[49m\u001b[43m \u001b[49m\u001b[38;5;241;43m=\u001b[39;49m\u001b[43m \u001b[49m\u001b[43mpositions\u001b[49m\u001b[43m,\u001b[49m\n\u001b[1;32m     61\u001b[0m \u001b[43m    \u001b[49m\u001b[43mfrac_coords\u001b[49m\u001b[43m \u001b[49m\u001b[38;5;241;43m=\u001b[39;49m\u001b[43m \u001b[49m\u001b[43mDistributed\u001b[49m\u001b[38;5;241;43m.\u001b[39;49m\u001b[43mcartesian_to_wrapped_fractional\u001b[49m\u001b[43m(\u001b[49m\u001b[43mpositions\u001b[49m\u001b[43m,\u001b[49m\u001b[43m \u001b[49m\u001b[43mcell\u001b[49m\u001b[43m,\u001b[49m\u001b[43m \u001b[49m\u001b[43mpbc\u001b[49m\u001b[43m)\u001b[49m\u001b[43m,\u001b[49m\n\u001b[1;32m     62\u001b[0m \u001b[43m    \u001b[49m\u001b[43mlattice_matrix\u001b[49m\u001b[43m \u001b[49m\u001b[38;5;241;43m=\u001b[39;49m\u001b[43m \u001b[49m\u001b[43mcell\u001b[49m\u001b[43m,\u001b[49m\n\u001b[1;32m     63\u001b[0m \u001b[43m    \u001b[49m\u001b[43mnum_partitions\u001b[49m\u001b[43m \u001b[49m\u001b[38;5;241;43m=\u001b[39;49m\u001b[43m \u001b[49m\u001b[43mnum_partitions\u001b[49m\u001b[43m,\u001b[49m\n\u001b[1;32m     64\u001b[0m \u001b[43m    \u001b[49m\u001b[43mpbc\u001b[49m\u001b[43m \u001b[49m\u001b[38;5;241;43m=\u001b[39;49m\u001b[43m \u001b[49m\u001b[43mpbc\u001b[49m\u001b[43m,\u001b[49m\n\u001b[1;32m     65\u001b[0m \u001b[43m    \u001b[49m\u001b[43mcutoff\u001b[49m\u001b[43m \u001b[49m\u001b[38;5;241;43m=\u001b[39;49m\u001b[43m \u001b[49m\u001b[43mcutoff\u001b[49m\u001b[43m,\u001b[49m\n\u001b[1;32m     66\u001b[0m \u001b[43m    \u001b[49m\u001b[43mnum_threads\u001b[49m\u001b[43m \u001b[49m\u001b[38;5;241;43m=\u001b[39;49m\u001b[43m \u001b[49m\u001b[43mos\u001b[49m\u001b[38;5;241;43m.\u001b[39;49m\u001b[43menviron\u001b[49m\u001b[38;5;241;43m.\u001b[39;49m\u001b[43mget\u001b[49m\u001b[43m(\u001b[49m\u001b[38;5;124;43m\"\u001b[39;49m\u001b[38;5;124;43mDISTMLIP_NUM_THREADS\u001b[39;49m\u001b[38;5;124;43m\"\u001b[39;49m\u001b[43m,\u001b[49m\u001b[43m \u001b[49m\u001b[38;5;241;43m8\u001b[39;49m\u001b[43m)\u001b[49m\n\u001b[1;32m     67\u001b[0m \u001b[43m\u001b[49m\u001b[43m)\u001b[49m\n\u001b[1;32m     69\u001b[0m \u001b[38;5;66;03m# (2, num_edges)\u001b[39;00m\n\u001b[1;32m     70\u001b[0m edge_index \u001b[38;5;241m=\u001b[39m np\u001b[38;5;241m.\u001b[39mconcatenate((dist_info\u001b[38;5;241m.\u001b[39mpy_index_1[\u001b[38;5;28;01mNone\u001b[39;00m, :], dist_info\u001b[38;5;241m.\u001b[39mpy_index_2[\u001b[38;5;28;01mNone\u001b[39;00m, :]), axis\u001b[38;5;241m=\u001b[39m\u001b[38;5;241m0\u001b[39m)\n",
      "File \u001b[0;32m/data/kevinxhan/DistMLIP/DistMLIP/distributed/dist.py:221\u001b[0m, in \u001b[0;36mDistributed.create_distributed\u001b[0;34m(cls, cart_coords, frac_coords, lattice_matrix, num_partitions, pbc, cutoff, three_body_cutoff, tol, use_bond_graph, num_threads)\u001b[0m\n\u001b[1;32m    197\u001b[0m frac_coords \u001b[38;5;241m=\u001b[39m np\u001b[38;5;241m.\u001b[39mascontiguousarray(frac_coords, dtype\u001b[38;5;241m=\u001b[39m\u001b[38;5;28mfloat\u001b[39m)\n\u001b[1;32m    198\u001b[0m lattice_matrix \u001b[38;5;241m=\u001b[39m np\u001b[38;5;241m.\u001b[39mascontiguousarray(lattice_matrix, dtype\u001b[38;5;241m=\u001b[39m\u001b[38;5;28mfloat\u001b[39m)\n\u001b[1;32m    200\u001b[0m (\n\u001b[1;32m    201\u001b[0m     src_nodes,\n\u001b[1;32m    202\u001b[0m     dst_nodes,\n\u001b[1;32m    203\u001b[0m     markers,\n\u001b[1;32m    204\u001b[0m     local_coords,\n\u001b[1;32m    205\u001b[0m     global_ids,\n\u001b[1;32m    206\u001b[0m     py_index_1,\n\u001b[1;32m    207\u001b[0m     py_index_2,\n\u001b[1;32m    208\u001b[0m     py_offsets,\n\u001b[1;32m    209\u001b[0m     py_distances,\n\u001b[1;32m    210\u001b[0m     line_src_nodes,\n\u001b[1;32m    211\u001b[0m     line_dst_nodes,\n\u001b[1;32m    212\u001b[0m     within_r_indices,\n\u001b[1;32m    213\u001b[0m     line_markers,\n\u001b[1;32m    214\u001b[0m     num_UDEs_per_partition,\n\u001b[1;32m    215\u001b[0m     bond_mapping_DE_list,\n\u001b[1;32m    216\u001b[0m     bond_mapping_UDE_list,\n\u001b[1;32m    217\u001b[0m     L2G_DE_mapping_list,  \u001b[38;5;66;03m# index i is the global id associated with local id i\u001b[39;00m\n\u001b[1;32m    218\u001b[0m     G2L_DE_mapping_list,\n\u001b[1;32m    219\u001b[0m     \u001b[38;5;66;03m# index j is the local id associated with global id j. <--- THIS IS NOT RELIABLE.\u001b[39;00m\n\u001b[1;32m    220\u001b[0m     local_center_atom_indices_list,\n\u001b[0;32m--> 221\u001b[0m ) \u001b[38;5;241m=\u001b[39m \u001b[43mget_subgraphs_fast\u001b[49m\u001b[43m(\u001b[49m\n\u001b[1;32m    222\u001b[0m \u001b[43m    \u001b[49m\u001b[43mcart_coords\u001b[49m\u001b[43m,\u001b[49m\n\u001b[1;32m    223\u001b[0m \u001b[43m    \u001b[49m\u001b[38;5;28;43mfloat\u001b[39;49m\u001b[43m(\u001b[49m\u001b[43mcutoff\u001b[49m\u001b[43m)\u001b[49m\u001b[43m,\u001b[49m\n\u001b[1;32m    224\u001b[0m \u001b[43m    \u001b[49m\u001b[43mpbc\u001b[49m\u001b[43m,\u001b[49m\n\u001b[1;32m    225\u001b[0m \u001b[43m    \u001b[49m\u001b[43mlattice_matrix\u001b[49m\u001b[43m,\u001b[49m\n\u001b[1;32m    226\u001b[0m \u001b[43m    \u001b[49m\u001b[43mnum_partitions\u001b[49m\u001b[43m,\u001b[49m\n\u001b[1;32m    227\u001b[0m \u001b[43m    \u001b[49m\u001b[38;5;28;43mfloat\u001b[39;49m\u001b[43m(\u001b[49m\u001b[43mthree_body_cutoff\u001b[49m\u001b[43m)\u001b[49m\u001b[43m,\u001b[49m\n\u001b[1;32m    228\u001b[0m \u001b[43m    \u001b[49m\u001b[43mtol\u001b[49m\u001b[43m,\u001b[49m\n\u001b[1;32m    229\u001b[0m \u001b[43m    \u001b[49m\u001b[43mnum_threads\u001b[49m\u001b[43m,\u001b[49m\n\u001b[1;32m    230\u001b[0m \u001b[43m    \u001b[49m\u001b[43muse_bond_graph\u001b[49m\u001b[43m,\u001b[49m\n\u001b[1;32m    231\u001b[0m \u001b[43m    \u001b[49m\u001b[43mfrac_coords\u001b[49m\u001b[43m,\u001b[49m\n\u001b[1;32m    232\u001b[0m \u001b[43m\u001b[49m\u001b[43m)\u001b[49m\n\u001b[1;32m    234\u001b[0m \u001b[38;5;66;03m# Set up markers arrays\u001b[39;00m\n\u001b[1;32m    235\u001b[0m markers_tmp \u001b[38;5;241m=\u001b[39m []\n",
      "\u001b[0;31mTypeError\u001b[0m: 'str' object cannot be interpreted as an integer"
     ]
    }
   ],
   "source": [
    "# You can set the number of threads to use via environment variable\n",
    "os.environ[\"DISTMLIP_NUM_THREADS\"] = \"8\"\n",
    "\n",
    "# Performing a static calculation on the ASE atoms object\n",
    "dist_calc.calculate(atoms)\n",
    "\n",
    "# Retrieiving results\n",
    "dist_calc.results['energy'], dist_calc.results['forces']"
   ]
  },
  {
   "cell_type": "code",
   "execution_count": null,
   "id": "81f5c5c8",
   "metadata": {},
   "outputs": [],
   "source": [
    "dist_calc.results['stress']"
   ]
  },
  {
   "cell_type": "code",
   "execution_count": null,
   "id": "aedcb163",
   "metadata": {},
   "outputs": [],
   "source": [
    "# You can use MACECalculator_Dist the same way as MACECalculator. An example using DistMLIP's MolecularDynamics class from MatGL:\n",
    "from DistMLIP.implementations.matgl import MolecularDynamics\n",
    "\n",
    "driver = MolecularDynamics(\n",
    "    atoms,\n",
    "    potential=dist_calc,\n",
    "    timestep=0.5,\n",
    "    temperature=300,\n",
    "    loginterval=200\n",
    ")\n",
    "\n",
    "driver.run(20)"
   ]
  }
 ],
 "metadata": {
  "kernelspec": {
   "display_name": "distmlip",
   "language": "python",
   "name": "python3"
  },
  "language_info": {
   "codemirror_mode": {
    "name": "ipython",
    "version": 3
   },
   "file_extension": ".py",
   "mimetype": "text/x-python",
   "name": "python",
   "nbconvert_exporter": "python",
   "pygments_lexer": "ipython3",
   "version": "3.10.16"
  }
 },
 "nbformat": 4,
 "nbformat_minor": 5
}
