{
 "cells": [
  {
   "cell_type": "code",
   "execution_count": 1,
   "id": "78e0bcce",
   "metadata": {},
   "outputs": [
    {
     "name": "stderr",
     "output_type": "stream",
     "text": [
      "/data/kevinxhan/miniconda3/envs/matgl3/lib/python3.10/site-packages/tqdm/auto.py:21: TqdmWarning: IProgress not found. Please update jupyter and ipywidgets. See https://ipywidgets.readthedocs.io/en/stable/user_install.html\n",
      "  from .autonotebook import tqdm as notebook_tqdm\n"
     ]
    }
   ],
   "source": [
    "from DistMLIP.implementations.matgl import CHGNet_Dist, Potential_Dist, MolecularDynamics, Relaxer\n",
    "import matgl\n",
    "from pymatgen.core import Structure, Lattice\n",
    "from pymatgen.io.ase import AseAtomsAdaptor"
   ]
  },
  {
   "cell_type": "code",
   "execution_count": 2,
   "id": "e8f201e9",
   "metadata": {},
   "outputs": [],
   "source": [
    "# Initialize a CHGNet_Dist model (because CHGNet_Dist inherits from matgl's CHGNet class, model finetuning, training, etc. all work the exact same as in MatGL)\n",
    "model = CHGNet_Dist()\n",
    "\n",
    "# Load a previous CHGNet model from matgl\n",
    "model = matgl.load_model(\"CHGNet-MatPES-PBE-2025.2.10-2.7M-PES\").model\n",
    "\n",
    "# Make a distributed version of the model\n",
    "dist_model = CHGNet_Dist.from_existing(model)\n",
    "\n",
    "# Enable distributed mode for 2 GPUs\n",
    "dist_model.enable_distributed_mode([6, 7]) "
   ]
  },
  {
   "cell_type": "code",
   "execution_count": 3,
   "id": "017f8d12",
   "metadata": {},
   "outputs": [
    {
     "name": "stdout",
     "output_type": "stream",
     "text": [
      "There are 16000 atoms.\n"
     ]
    }
   ],
   "source": [
    "# Insert your atoms\n",
    "struct = Structure.from_spacegroup(\"Pm-3m\", Lattice.cubic(5.5), [\"Li\", \"Mn\"], [[0, 0, 0], [0.5, 0.5, 0.5]])\n",
    "struct.perturb(0.5)\n",
    "struct.make_supercell((20, 20, 20))\n",
    "print(f\"There are {len(struct)} atoms.\")\n",
    "atoms = AseAtomsAdaptor().get_atoms(struct)\n"
   ]
  },
  {
   "cell_type": "code",
   "execution_count": 5,
   "id": "46dec71d",
   "metadata": {},
   "outputs": [],
   "source": [
    "# Create Potential_Dist object, use 128 threads when creating graph structures\n",
    "potential = Potential_Dist(model=dist_model, num_threads=128)"
   ]
  },
  {
   "cell_type": "code",
   "execution_count": null,
   "id": "448eea94",
   "metadata": {},
   "outputs": [
    {
     "name": "stderr",
     "output_type": "stream",
     "text": [
      "/data/kevinxhan/DistMLIP/DistMLIP/implementations/matgl/ase.py:188: FutureWarning: Please use atoms.calc = calc\n",
      "  atoms.set_calculator(self.calculator)\n",
      "/data/kevinxhan/miniconda3/envs/matgl3/lib/python3.10/site-packages/dgl/core.py:82: DGLWarning: The input graph for the user-defined edge function does not contain valid edges\n",
      "  dgl_warning(\n"
     ]
    },
    {
     "name": "stdout",
     "output_type": "stream",
     "text": [
      "      Step     Time          Energy          fmax\n",
      "FIRE:    0 15:47:49    16332.768555        0.244577\n",
      "FIRE:    1 15:47:50    16332.768555        0.244577\n",
      "FIRE:    2 15:47:50    16332.768555        0.244580\n",
      "FIRE:    3 15:47:50    16332.768555        0.244583\n",
      "FIRE:    4 15:47:50    16332.768555        0.244587\n",
      "FIRE:    5 15:47:50    16332.768555        0.244591\n",
      "FIRE:    6 15:47:51    16332.767578        0.244596\n",
      "FIRE:    7 15:47:51    16332.767578        0.244604\n",
      "FIRE:    8 15:47:51    16332.731445        0.244612\n",
      "FIRE:    9 15:47:51    16332.728516        0.244625\n",
      "FIRE:   10 15:47:51    16332.728516        0.244638\n",
      "FIRE:   11 15:47:52    16332.726562        0.244656\n",
      "FIRE:   12 15:47:52    16332.725586        0.244677\n",
      "FIRE:   13 15:47:52    16332.714844        0.244704\n",
      "FIRE:   14 15:47:52    16332.713867        0.244738\n",
      "FIRE:   15 15:47:52    16332.709961        0.244779\n",
      "FIRE:   16 15:47:53    16332.708984        0.244826\n",
      "FIRE:   17 15:47:53    16332.705078        0.244873\n",
      "FIRE:   18 15:47:53    16332.694336        0.244920\n",
      "FIRE:   19 15:47:53    16332.690430        0.244967\n",
      "FIRE:   20 15:47:53    16332.650391        0.245013\n",
      "FIRE:   21 15:47:54    16332.646484        0.245060\n",
      "FIRE:   22 15:47:54    16332.635742        0.245107\n",
      "FIRE:   23 15:47:54    16332.602539        0.245154\n",
      "FIRE:   24 15:47:54    16332.476562        0.245200\n",
      "FIRE:   25 15:47:54    16332.470703        0.245247\n",
      "FIRE:   26 15:47:55    16332.460938        0.245294\n",
      "FIRE:   27 15:47:55    16332.446289        0.245341\n",
      "FIRE:   28 15:47:55    16332.420898        0.245388\n",
      "FIRE:   29 15:47:55    16332.394531        0.245434\n",
      "FIRE:   30 15:47:55    16332.280273        0.245481\n",
      "FIRE:   31 15:47:56    16332.105469        0.245528\n",
      "FIRE:   32 15:47:56    16331.973633        0.245575\n",
      "FIRE:   33 15:47:56    16331.894531        0.245621\n",
      "FIRE:   34 15:47:56    16331.844727        0.245668\n",
      "FIRE:   35 15:47:56    16331.810547        0.245715\n",
      "FIRE:   36 15:47:57    16331.768555        0.245761\n",
      "FIRE:   37 15:47:57    16331.704102        0.245808\n",
      "FIRE:   38 15:47:57    16331.615234        0.245854\n",
      "FIRE:   39 15:47:57    16331.506836        0.245900\n",
      "FIRE:   40 15:47:57    16331.392578        0.245946\n",
      "FIRE:   41 15:47:58    16331.280273        0.245991\n",
      "FIRE:   42 15:47:58    16331.167969        0.246036\n",
      "FIRE:   43 15:47:58    16331.060547        0.246081\n",
      "FIRE:   44 15:47:58    16330.962891        0.246124\n",
      "FIRE:   45 15:47:58    16330.892578        0.246165\n",
      "FIRE:   46 15:47:59    16330.821289        0.246204\n",
      "FIRE:   47 15:47:59    16330.754883        0.246241\n",
      "FIRE:   48 15:47:59    16330.696289        0.246272\n",
      "FIRE:   49 15:47:59    16330.625000        0.246298\n",
      "FIRE:   50 15:47:59    16330.580078        0.246316\n",
      "FIRE:   51 15:48:00    16330.517578        0.246323\n",
      "FIRE:   52 15:48:00    16330.458984        0.246317\n",
      "FIRE:   53 15:48:00    16330.411133        0.246294\n",
      "FIRE:   54 15:48:00    16330.347656        0.246250\n",
      "FIRE:   55 15:48:00    16330.297852        0.246183\n",
      "FIRE:   56 15:48:01    16330.216797        0.246087\n",
      "FIRE:   57 15:48:01    16330.095703        0.245961\n",
      "FIRE:   58 15:48:01    16329.941406        0.245799\n",
      "FIRE:   59 15:48:01    16329.821289        0.245602\n",
      "FIRE:   60 15:48:01    16329.717773        0.245368\n",
      "FIRE:   61 15:48:02    16329.611328        0.245096\n",
      "FIRE:   62 15:48:02    16329.538086        0.244789\n",
      "FIRE:   63 15:48:02    16329.493164        0.244448\n",
      "FIRE:   64 15:48:02    16329.434570        0.244077\n",
      "FIRE:   65 15:48:02    16329.355469        0.243679\n",
      "FIRE:   66 15:48:03    16329.154297        0.243260\n",
      "FIRE:   67 15:48:03    16328.850586        0.242825\n",
      "FIRE:   68 15:48:03    16328.377930        0.242379\n",
      "FIRE:   69 15:48:03    16327.852539        0.241927\n",
      "FIRE:   70 15:48:03    16327.329102        0.241476\n",
      "FIRE:   71 15:48:04    16326.753906        0.241031\n",
      "FIRE:   72 15:48:04    16326.220703        0.240598\n",
      "FIRE:   73 15:48:04    16325.672852        0.240180\n",
      "FIRE:   74 15:48:04    16325.137695        0.239783\n",
      "FIRE:   75 15:48:04    16324.614258        0.239411\n",
      "FIRE:   76 15:48:05    16324.055664        0.239066\n",
      "FIRE:   77 15:48:05    16323.527344        0.238752\n",
      "FIRE:   78 15:48:05    16323.008789        0.238469\n",
      "FIRE:   79 15:48:05    16322.523438        0.238221\n",
      "FIRE:   80 15:48:05    16322.005859        0.238007\n",
      "FIRE:   81 15:48:06    16321.488281        0.237827\n",
      "FIRE:   82 15:48:06    16320.958984        0.237682\n",
      "FIRE:   83 15:48:06    16320.450195        0.237570\n",
      "FIRE:   84 15:48:06    16319.958008        0.237489\n",
      "FIRE:   85 15:48:06    16319.474609        0.237439\n",
      "FIRE:   86 15:48:06    16318.983398        0.237417\n",
      "FIRE:   87 15:48:07    16318.473633        0.237422\n",
      "FIRE:   88 15:48:07    16318.001953        0.237450\n",
      "FIRE:   89 15:48:07    16317.489258        0.237500\n",
      "FIRE:   90 15:48:07    16316.998047        0.237569\n",
      "FIRE:   91 15:48:07    16316.495117        0.237655\n",
      "FIRE:   92 15:48:08    16316.053711        0.237756\n",
      "FIRE:   93 15:48:08    16315.542969        0.237871\n",
      "FIRE:   94 15:48:08    16315.088867        0.237997\n",
      "FIRE:   95 15:48:08    16314.649414        0.238133\n",
      "FIRE:   96 15:48:08    16314.139648        0.238279\n",
      "FIRE:   97 15:48:09    16313.704102        0.238433\n",
      "FIRE:   98 15:48:09    16313.285156        0.238594\n",
      "FIRE:   99 15:48:09    16312.895508        0.238763\n",
      "FIRE:  100 15:48:09    16312.477539        0.238939\n",
      "FIRE:  101 15:48:09    16312.068359        0.239122\n",
      "FIRE:  102 15:48:10    16311.646484        0.239311\n",
      "FIRE:  103 15:48:10    16311.253906        0.239507\n",
      "FIRE:  104 15:48:10    16310.856445        0.239709\n",
      "FIRE:  105 15:48:10    16310.467773        0.239917\n",
      "FIRE:  106 15:48:10    16310.108398        0.240131\n",
      "FIRE:  107 15:48:11    16309.750977        0.240350\n",
      "FIRE:  108 15:48:11    16309.346680        0.240574\n",
      "FIRE:  109 15:48:11    16308.964844        0.240802\n",
      "FIRE:  110 15:48:11    16308.593750        0.241033\n",
      "FIRE:  111 15:48:11    16308.253906        0.241268\n",
      "FIRE:  112 15:48:12    16307.908203        0.241504\n",
      "FIRE:  113 15:48:12    16307.562500        0.241742\n",
      "FIRE:  114 15:48:12    16307.250000        0.241980\n",
      "FIRE:  115 15:48:12    16306.917969        0.242219\n"
     ]
    }
   ],
   "source": [
    "# Run structure relaxation\n",
    "relaxer = Relaxer(\n",
    "    potential=potential,\n",
    "    optimizer=\"FIRE\",\n",
    "    relax_cell=True\n",
    ")\n",
    "\n",
    "results = relaxer.relax(atoms, verbose=True, steps=200)"
   ]
  },
  {
   "cell_type": "code",
   "execution_count": null,
   "id": "e865caea",
   "metadata": {},
   "outputs": [],
   "source": [
    "# Run molecular dynamics\n",
    "driver = MolecularDynamics(\n",
    "    atoms,\n",
    "    potential=potential,\n",
    "    timestep=0.5,\n",
    "    temperature=300,\n",
    "    loginterval=200,\n",
    "    logfile=\"logfile.log\",\n",
    "    trajectory=\"traj.trj\"\n",
    ")\n",
    "\n",
    "driver.run(20)"
   ]
  }
 ],
 "metadata": {
  "kernelspec": {
   "display_name": "matgl3",
   "language": "python",
   "name": "python3"
  },
  "language_info": {
   "codemirror_mode": {
    "name": "ipython",
    "version": 3
   },
   "file_extension": ".py",
   "mimetype": "text/x-python",
   "name": "python",
   "nbconvert_exporter": "python",
   "pygments_lexer": "ipython3",
   "version": "3.10.16"
  }
 },
 "nbformat": 4,
 "nbformat_minor": 5
}
