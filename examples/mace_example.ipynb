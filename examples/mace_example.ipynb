{
 "cells": [
  {
   "cell_type": "code",
   "execution_count": 1,
   "id": "b99feb0b",
   "metadata": {},
   "outputs": [
    {
     "name": "stderr",
     "output_type": "stream",
     "text": [
      "/data/kevinxhan/miniconda3/envs/distmlip/lib/python3.10/site-packages/e3nn/o3/_wigner.py:10: UserWarning: Environment variable TORCH_FORCE_NO_WEIGHTS_ONLY_LOAD detected, since the`weights_only` argument was not explicitly passed to `torch.load`, forcing weights_only=False.\n",
      "  _Jd, _W3j_flat, _W3j_indices = torch.load(os.path.join(os.path.dirname(__file__), 'constants.pt'))\n"
     ]
    }
   ],
   "source": [
    "from DistMLIP.implementations.mace import MACECalculator_Dist\n",
    "from mace.calculators import mace_mp\n",
    "\n",
    "import matgl\n",
    "from pymatgen.core import Structure, Lattice\n",
    "from pymatgen.io.ase import AseAtomsAdaptor\n",
    "\n",
    "import os"
   ]
  },
  {
   "cell_type": "code",
   "execution_count": 2,
   "id": "a191b443",
   "metadata": {},
   "outputs": [
    {
     "name": "stdout",
     "output_type": "stream",
     "text": [
      "There are 54000 atoms.\n"
     ]
    }
   ],
   "source": [
    "# Insert your atoms\n",
    "struct = Structure.from_spacegroup(\"Pm-3m\", Lattice.cubic(3.5), [\"Li\", \"Mn\"], [[0, 0, 0], [0.5, 0.5, 0.5]])\n",
    "struct.perturb(0.5)\n",
    "struct.make_supercell((30, 30, 30))\n",
    "print(f\"There are {len(struct)} atoms.\")\n",
    "atoms = AseAtomsAdaptor().get_atoms(struct)"
   ]
  },
  {
   "cell_type": "code",
   "execution_count": 3,
   "id": "7ea05d59",
   "metadata": {},
   "outputs": [
    {
     "name": "stdout",
     "output_type": "stream",
     "text": [
      "Using Materials Project MACE for MACECalculator with /home/kevinxhan/.cache/mace/20231210mace128L0_energy_epoch249model\n",
      "Using float32 for MACECalculator, which is faster but less accurate. Recommended for MD. Use float64 for geometry optimization.\n",
      "Using head Default out of ['Default']\n",
      "Default dtype float32 does not match model dtype float64, converting models to float32.\n"
     ]
    },
    {
     "name": "stderr",
     "output_type": "stream",
     "text": [
      "/data/kevinxhan/miniconda3/envs/distmlip/lib/python3.10/site-packages/mace/calculators/mace.py:139: UserWarning: Environment variable TORCH_FORCE_NO_WEIGHTS_ONLY_LOAD detected, since the`weights_only` argument was not explicitly passed to `torch.load`, forcing weights_only=False.\n",
      "  torch.load(f=model_path, map_location=device)\n"
     ]
    }
   ],
   "source": [
    "# Load/create a previously trained MACECalculator on cpu\n",
    "from mace.calculators import mace_mp\n",
    "\n",
    "calc = mace_mp(model=\"small\", device=\"cpu\")\n",
    "\n",
    "# Make a distributed version of the calculator \n",
    "dist_calc = MACECalculator_Dist.from_existing(calc)\n",
    "# Enable distributed mode and specify the GPUs to use\n",
    "dist_calc.enable_distributed_mode([0, 1])\n"
   ]
  },
  {
   "cell_type": "code",
   "execution_count": 4,
   "id": "25de0c35",
   "metadata": {},
   "outputs": [
    {
     "name": "stdout",
     "output_type": "stream",
     "text": [
      "torch.float32\n",
      "torch.float32\n",
      "torch.float32\n",
      "torch.float32\n",
      "torch.int64\n",
      "torch.float32\n",
      "torch.float32\n",
      "torch.float32\n",
      "torch.float32\n",
      "torch.int64\n",
      "torch.float32\n",
      "torch.float32\n",
      "torch.float32\n",
      "torch.float32\n",
      "torch.int64\n",
      "torch.float32\n",
      "torch.float32\n",
      "torch.float32\n",
      "torch.float32\n",
      "torch.int64\n"
     ]
    },
    {
     "data": {
      "text/plain": [
       "(-265287.90625,\n",
       " array([[ 0.31464392, -0.11550583, -0.2508669 ],\n",
       "        [ 0.31464556, -0.11550561, -0.25086445],\n",
       "        [ 0.31464526, -0.11550591, -0.25086382],\n",
       "        ...,\n",
       "        [-0.3146447 ,  0.11550464,  0.2508719 ],\n",
       "        [-0.31464452,  0.11550471,  0.250872  ],\n",
       "        [-0.31464463,  0.11550468,  0.25087145]], dtype=float32),\n",
       " array([ 0.03903605,  0.03720276,  0.03824157, -0.00110805,  0.00304896,\n",
       "         0.00139399]))"
      ]
     },
     "execution_count": 4,
     "metadata": {},
     "output_type": "execute_result"
    }
   ],
   "source": [
    "# You can set the number of threads to use via environment variable\n",
    "os.environ[\"DISTMLIP_NUM_THREADS\"] = \"8\"\n",
    "\n",
    "# Performing a static calculation on the ASE atoms object\n",
    "dist_calc.calculate(atoms)\n",
    "\n",
    "# Retrieiving results\n",
    "dist_calc.results['energy'], dist_calc.results['forces'], dist_calc.results['stress']"
   ]
  },
  {
   "cell_type": "code",
   "execution_count": null,
   "id": "aedcb163",
   "metadata": {},
   "outputs": [],
   "source": [
    "# You can use MACECalculator_Dist the same way as MACECalculator. An example using DistMLIP's MolecularDynamics class from MatGL:\n",
    "from DistMLIP.implementations.matgl import MolecularDynamics\n",
    "\n",
    "driver = MolecularDynamics(\n",
    "    atoms,\n",
    "    potential=dist_calc,\n",
    "    timestep=0.5,\n",
    "    temperature=300,\n",
    "    loginterval=200\n",
    ")\n",
    "\n",
    "driver.run(20)"
   ]
  }
 ],
 "metadata": {
  "kernelspec": {
   "display_name": "distmlip",
   "language": "python",
   "name": "python3"
  },
  "language_info": {
   "codemirror_mode": {
    "name": "ipython",
    "version": 3
   },
   "file_extension": ".py",
   "mimetype": "text/x-python",
   "name": "python",
   "nbconvert_exporter": "python",
   "pygments_lexer": "ipython3",
   "version": "3.10.16"
  }
 },
 "nbformat": 4,
 "nbformat_minor": 5
}
