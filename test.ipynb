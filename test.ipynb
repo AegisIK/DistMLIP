{
 "cells": [
  {
   "cell_type": "code",
   "execution_count": 1,
   "id": "0",
   "metadata": {},
   "outputs": [],
   "source": [
    "from pymatgen.core import Structure\n",
    "from pymatgen.io.ase import AseAtomsAdaptor\n",
    "import numpy as np"
   ]
  },
  {
   "cell_type": "code",
   "execution_count": 2,
   "id": "2",
   "metadata": {},
   "outputs": [
    {
     "name": "stdout",
     "output_type": "stream",
     "text": [
      "896\n"
     ]
    }
   ],
   "source": [
    "LFP = Structure.from_file(\"/data/kevinxhan/dist_chgnet/LiFePO4.cif\")\n",
    "LFP.make_supercell((8, 2, 2))\n",
    "LFP_atoms = AseAtomsAdaptor().get_atoms(LFP)\n",
    "print(len(LFP_atoms))"
   ]
  },
  {
   "cell_type": "code",
   "execution_count": 3,
   "id": "41dd03b0",
   "metadata": {},
   "outputs": [
    {
     "name": "stderr",
     "output_type": "stream",
     "text": [
      "/data/kevinxhan/miniconda3/envs/matgl3/lib/python3.10/site-packages/tqdm/auto.py:21: TqdmWarning: IProgress not found. Please update jupyter and ipywidgets. See https://ipywidgets.readthedocs.io/en/stable/user_install.html\n",
      "  from .autonotebook import tqdm as notebook_tqdm\n"
     ]
    },
    {
     "data": {
      "text/plain": [
       "TensorNet(\n",
       "  (bond_expansion): BondExpansion(\n",
       "    (rbf): SphericalBesselFunction()\n",
       "  )\n",
       "  (activation): SiLU()\n",
       "  (tensor_embedding): TensorEmbedding(\n",
       "    (distance_proj1): Linear(in_features=3, out_features=128, bias=True)\n",
       "    (distance_proj2): Linear(in_features=3, out_features=128, bias=True)\n",
       "    (distance_proj3): Linear(in_features=3, out_features=128, bias=True)\n",
       "    (emb): Embedding(89, 128)\n",
       "    (act): SiLU()\n",
       "    (linears_tensor): ModuleList(\n",
       "      (0-2): 3 x Linear(in_features=128, out_features=128, bias=False)\n",
       "    )\n",
       "    (linears_scalar): ModuleList(\n",
       "      (0): Linear(in_features=128, out_features=256, bias=True)\n",
       "      (1): Linear(in_features=256, out_features=384, bias=True)\n",
       "    )\n",
       "    (init_norm): LayerNorm((128,), eps=1e-05, elementwise_affine=True)\n",
       "    (emb2): Linear(in_features=256, out_features=128, bias=True)\n",
       "    (emb3): Linear(in_features=3, out_features=128, bias=True)\n",
       "  )\n",
       "  (layers): ModuleList(\n",
       "    (0-1): 2 x TensorNetInteraction(\n",
       "      (linears_scalar): ModuleList(\n",
       "        (0): Linear(in_features=3, out_features=128, bias=True)\n",
       "        (1): Linear(in_features=128, out_features=256, bias=True)\n",
       "        (2): Linear(in_features=256, out_features=384, bias=True)\n",
       "      )\n",
       "      (linears_tensor): ModuleList(\n",
       "        (0-5): 6 x Linear(in_features=128, out_features=128, bias=False)\n",
       "      )\n",
       "      (act): SiLU()\n",
       "    )\n",
       "  )\n",
       "  (out_norm): LayerNorm((384,), eps=1e-05, elementwise_affine=True)\n",
       "  (linear): Linear(in_features=384, out_features=128, bias=True)\n",
       "  (final_layer): WeightedReadOut(\n",
       "    (gated): GatedMLP(\n",
       "      (layers): Sequential(\n",
       "        (0): Linear(in_features=128, out_features=128, bias=True)\n",
       "        (1): SiLU()\n",
       "        (2): Linear(in_features=128, out_features=128, bias=True)\n",
       "        (3): SiLU()\n",
       "        (4): Linear(in_features=128, out_features=128, bias=True)\n",
       "        (5): SiLU()\n",
       "        (6): Linear(in_features=128, out_features=1, bias=True)\n",
       "      )\n",
       "      (gates): Sequential(\n",
       "        (0): Linear(in_features=128, out_features=128, bias=True)\n",
       "        (1): SiLU()\n",
       "        (2): Linear(in_features=128, out_features=128, bias=True)\n",
       "        (3): SiLU()\n",
       "        (4): Linear(in_features=128, out_features=128, bias=True)\n",
       "        (5): SiLU()\n",
       "        (6): Linear(in_features=128, out_features=1, bias=True)\n",
       "        (7): Sigmoid()\n",
       "      )\n",
       "    )\n",
       "  )\n",
       "  (linear_dist): Linear(in_features=384, out_features=128, bias=True)\n",
       "  (final_layer_dist): WeightedReadOut(\n",
       "    (gated): GatedMLP(\n",
       "      (layers): Sequential(\n",
       "        (0): Linear(in_features=128, out_features=128, bias=True)\n",
       "        (1): SiLU()\n",
       "        (2): Linear(in_features=128, out_features=128, bias=True)\n",
       "        (3): SiLU()\n",
       "        (4): Linear(in_features=128, out_features=128, bias=True)\n",
       "        (5): SiLU()\n",
       "        (6): Linear(in_features=128, out_features=1, bias=True)\n",
       "      )\n",
       "      (gates): Sequential(\n",
       "        (0): Linear(in_features=128, out_features=128, bias=True)\n",
       "        (1): SiLU()\n",
       "        (2): Linear(in_features=128, out_features=128, bias=True)\n",
       "        (3): SiLU()\n",
       "        (4): Linear(in_features=128, out_features=128, bias=True)\n",
       "        (5): SiLU()\n",
       "        (6): Linear(in_features=128, out_features=1, bias=True)\n",
       "        (7): Sigmoid()\n",
       "      )\n",
       "    )\n",
       "  )\n",
       "  (out_norm_dist): LayerNorm((384,), eps=1e-05, elementwise_affine=True)\n",
       ")"
      ]
     },
     "execution_count": 3,
     "metadata": {},
     "output_type": "execute_result"
    }
   ],
   "source": [
    "import matgl\n",
    "from DistMLIP.implementations.matgl import Potential_Dist, PESCalculator_Dist\n",
    "from DistMLIP.implementations.matgl import CHGNet_Dist, TensorNet_Dist\n",
    "from DistMLIP.implementations.matgl import MolecularDynamics, Relaxer\n",
    "\n",
    "\n",
    "model = matgl.load_model('/data/kevinxhan/dist_chgnet/matgl-private/pretrained_models/TensorNet-MatPES-PBE-v2025.1-PES').model\n",
    "dist_model = TensorNet_Dist.from_existing(model)\n",
    "dist_model.enable_distributed_mode([5,7])\n",
    "model.eval()\n"
   ]
  },
  {
   "cell_type": "code",
   "execution_count": 4,
   "id": "e1e6720b",
   "metadata": {},
   "outputs": [
    {
     "data": {
      "text/plain": [
       "(tensor(-1470.2537, device='cuda:5', grad_fn=<AddBackward0>),\n",
       " tensor([[-4.2094e-07,  1.8048e-07,  4.0704e-07],\n",
       "         [-2.6802e-07,  3.8306e-07,  1.2917e-07],\n",
       "         [-3.2687e-07,  1.1205e-08,  3.6330e-07],\n",
       "         ...,\n",
       "         [-6.5795e-02,  1.8291e-01,  1.1454e-01],\n",
       "         [-6.5794e-02,  1.8291e-01,  1.1454e-01],\n",
       "         [-6.5794e-02,  1.8291e-01,  1.1454e-01]], device='cuda:5'),\n",
       " tensor([[-1.2942e+00, -3.0518e-07, -1.1524e-06],\n",
       "         [ 4.3059e-08, -1.0939e+00, -1.8789e-07],\n",
       "         [-5.1540e-07, -2.3421e-07, -7.9690e-01]], device='cuda:5'),\n",
       " None)"
      ]
     },
     "execution_count": 4,
     "metadata": {},
     "output_type": "execute_result"
    }
   ],
   "source": [
    "pes = Potential_Dist(model=dist_model, num_threads=256)\n",
    "pes(LFP_atoms)"
   ]
  },
  {
   "cell_type": "code",
   "execution_count": null,
   "id": "3289e351",
   "metadata": {},
   "outputs": [],
   "source": [
    "pes = Potential_Dist(model=dist_model, num_threads=256)\n",
    "\n",
    "driver = MolecularDynamics(\n",
    "    LFP_atoms,\n",
    "    potential=pes,\n",
    "    timestep=0.5,\n",
    "    temperature=300,\n",
    "    # logfile=\"H2O_0.1M_1000k.log\",\n",
    "    # trajectory=\"H2O_0.1M_1000k.traj\",\n",
    "    loginterval=200\n",
    ")\n",
    "\n",
    "driver.run(20)"
   ]
  },
  {
   "cell_type": "code",
   "execution_count": null,
   "id": "c9cbc88b",
   "metadata": {},
   "outputs": [],
   "source": []
  }
 ],
 "metadata": {
  "kernelspec": {
   "display_name": "matgl3",
   "language": "python",
   "name": "python3"
  },
  "language_info": {
   "codemirror_mode": {
    "name": "ipython",
    "version": 3
   },
   "file_extension": ".py",
   "mimetype": "text/x-python",
   "name": "python",
   "nbconvert_exporter": "python",
   "pygments_lexer": "ipython3",
   "version": "3.10.16"
  }
 },
 "nbformat": 4,
 "nbformat_minor": 5
}
