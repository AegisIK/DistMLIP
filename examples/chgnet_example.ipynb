{
 "cells": [
  {
   "cell_type": "code",
   "execution_count": 1,
   "id": "78e0bcce",
   "metadata": {},
   "outputs": [
    {
     "name": "stderr",
     "output_type": "stream",
     "text": [
      "/data/kevinxhan/miniconda3/envs/distmlip/lib/python3.10/site-packages/tqdm/auto.py:21: TqdmWarning: IProgress not found. Please update jupyter and ipywidgets. See https://ipywidgets.readthedocs.io/en/stable/user_install.html\n",
      "  from .autonotebook import tqdm as notebook_tqdm\n"
     ]
    }
   ],
   "source": [
    "from DistMLIP.implementations.matgl import CHGNet_Dist, Potential_Dist, MolecularDynamics, Relaxer\n",
    "import matgl\n",
    "from pymatgen.core import Structure, Lattice\n",
    "from pymatgen.io.ase import AseAtomsAdaptor"
   ]
  },
  {
   "cell_type": "code",
   "execution_count": 2,
   "id": "e8f201e9",
   "metadata": {},
   "outputs": [],
   "source": [
    "# Initialize a CHGNet_Dist model (because CHGNet_Dist inherits from matgl's CHGNet class, model finetuning, training, etc. all work the exact same as in MatGL)\n",
    "# However, we recommend using DistMLIP purely as an inference platform\n",
    "model = CHGNet_Dist()\n",
    "\n",
    "# Or load a previously trained CHGNet model\n",
    "model = matgl.load_model(\"CHGNet-MatPES-PBE-2025.2.10-2.7M-PES\").model\n",
    "\n",
    "# Make a distributed version of the model\n",
    "dist_model = CHGNet_Dist.from_existing(model)\n",
    "\n",
    "# Enable distributed mode for 2 GPUs\n",
    "dist_model.enable_distributed_mode([0, 1, 2, 3, 4, 5, 6, 7]) "
   ]
  },
  {
   "cell_type": "code",
   "execution_count": 3,
   "id": "017f8d12",
   "metadata": {},
   "outputs": [
    {
     "name": "stdout",
     "output_type": "stream",
     "text": [
      "There are 54000 atoms.\n"
     ]
    }
   ],
   "source": [
    "# Insert your atoms\n",
    "struct = Structure.from_spacegroup(\"Pm-3m\", Lattice.cubic(3.5), [\"Li\", \"Mn\"], [[0, 0, 0], [0.5, 0.5, 0.5]])\n",
    "struct.perturb(0.5)\n",
    "struct.make_supercell((30, 30, 30))\n",
    "print(f\"There are {len(struct)} atoms.\")\n",
    "atoms = AseAtomsAdaptor().get_atoms(struct)"
   ]
  },
  {
   "cell_type": "code",
   "execution_count": 4,
   "id": "46dec71d",
   "metadata": {},
   "outputs": [],
   "source": [
    "# Create Potential_Dist object, use 128 threads when creating graph structures\n",
    "potential = Potential_Dist(model=dist_model, num_threads=128)"
   ]
  },
  {
   "cell_type": "code",
   "execution_count": 10,
   "id": "f5cc08b1",
   "metadata": {},
   "outputs": [
    {
     "name": "stdout",
     "output_type": "stream",
     "text": [
      "Bond graph is enabled but atom_cutoff is 6.000000 and bond_cutoff is 3.000000. The partition width is 13.216947 which is <= 2 * (atom_cutoff + bond_cutoff) (18.000000).\n",
      "A wall width that is <= 2 * (atom_cutoff + bond_cutoff) will be inefficient.\n",
      "You should reduce the # of partitions. If you cannot fit your system on a reduced # of partitions, then your system is probably too dense\n",
      "No vanilla distributed graph algorithm will be able to help you. Contact Kevin (kevinhan@cmu.edu) if you need help with this.\n",
      "Distributed object creation: 0.19427513399568852\n"
     ]
    }
   ],
   "source": [
    "# Perform static point calculation\n",
    "output = potential(atoms)"
   ]
  },
  {
   "cell_type": "code",
   "execution_count": null,
   "id": "448eea94",
   "metadata": {},
   "outputs": [],
   "source": [
    "# Run structure relaxation\n",
    "relaxer = Relaxer(\n",
    "    potential=potential,\n",
    "    optimizer=\"FIRE\",\n",
    "    relax_cell=True\n",
    ")\n",
    "\n",
    "results = relaxer.relax(atoms, verbose=True, steps=200)"
   ]
  },
  {
   "cell_type": "code",
   "execution_count": null,
   "id": "e865caea",
   "metadata": {},
   "outputs": [],
   "source": [
    "# Run molecular dynamics\n",
    "driver = MolecularDynamics(\n",
    "    atoms,\n",
    "    potential=potential,\n",
    "    timestep=0.5,\n",
    "    temperature=300,\n",
    "    loginterval=20,\n",
    "    logfile=\"logfile.log\",\n",
    "    trajectory=\"traj.trj\"\n",
    ")\n",
    "\n",
    "driver.run(50)"
   ]
  },
  {
   "cell_type": "code",
   "execution_count": null,
   "id": "f8e25937",
   "metadata": {},
   "outputs": [],
   "source": []
  }
 ],
 "metadata": {
  "kernelspec": {
   "display_name": "distmlip",
   "language": "python",
   "name": "python3"
  },
  "language_info": {
   "codemirror_mode": {
    "name": "ipython",
    "version": 3
   },
   "file_extension": ".py",
   "mimetype": "text/x-python",
   "name": "python",
   "nbconvert_exporter": "python",
   "pygments_lexer": "ipython3",
   "version": "3.10.16"
  }
 },
 "nbformat": 4,
 "nbformat_minor": 5
}
