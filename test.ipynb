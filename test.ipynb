{
 "cells": [
  {
   "cell_type": "code",
   "execution_count": null,
   "id": "0",
   "metadata": {},
   "outputs": [],
   "source": [
    "from pymatgen.core import Structure\n",
    "from pymatgen.io.ase import AseAtomsAdaptor\n",
    "import numpy as np"
   ]
  },
  {
   "cell_type": "code",
   "execution_count": null,
   "id": "2",
   "metadata": {},
   "outputs": [],
   "source": [
    "LFP = Structure.from_file(\"/data/kevinxhan/dist_chgnet/LiFePO4.cif\")\n",
    "LFP.make_supercell((8, 2, 2))\n",
    "LFP_atoms = AseAtomsAdaptor().get_atoms(LFP)\n",
    "print(len(LFP_atoms))"
   ]
  },
  {
   "cell_type": "code",
   "execution_count": null,
   "id": "41dd03b0",
   "metadata": {},
   "outputs": [],
   "source": [
    "import matgl\n",
    "from DistMLIP.implementations.matgl import Potential_Dist, PESCalculator_Dist\n",
    "from DistMLIP.implementations.matgl import CHGNet_Dist, TensorNet_Dist\n",
    "from DistMLIP.implementations.matgl import MolecularDynamics, Relaxer\n",
    "\n",
    "\n",
    "model = matgl.load_model('/data/kevinxhan/dist_chgnet/matgl-private/pretrained_models/TensorNet-MatPES-PBE-v2025.1-PES').model\n",
    "dist_model = TensorNet_Dist.from_existing(model)\n",
    "dist_model.enable_distributed_mode([5,7])\n",
    "model.eval()\n",
    "\"\"\n",
    "\n"
   ]
  },
  {
   "cell_type": "code",
   "execution_count": null,
   "id": "3289e351",
   "metadata": {},
   "outputs": [],
   "source": [
    "pes = Potential_Dist(model=dist_model, num_threads=256)\n",
    "\n",
    "driver = MolecularDynamics(\n",
    "    LFP_atoms,\n",
    "    potential=pes,\n",
    "    timestep=0.5,\n",
    "    temperature=300,\n",
    "    # logfile=\"H2O_0.1M_1000k.log\",\n",
    "    # trajectory=\"H2O_0.1M_1000k.traj\",\n",
    "    loginterval=200\n",
    ")\n",
    "\n",
    "driver.run(20)"
   ]
  },
  {
   "cell_type": "code",
   "execution_count": null,
   "id": "c9cbc88b",
   "metadata": {},
   "outputs": [],
   "source": []
  }
 ],
 "metadata": {
  "kernelspec": {
   "display_name": "matgl3",
   "language": "python",
   "name": "python3"
  },
  "language_info": {
   "codemirror_mode": {
    "name": "ipython",
    "version": 3
   },
   "file_extension": ".py",
   "mimetype": "text/x-python",
   "name": "python",
   "nbconvert_exporter": "python",
   "pygments_lexer": "ipython3",
   "version": "3.10.16"
  }
 },
 "nbformat": 4,
 "nbformat_minor": 5
}
