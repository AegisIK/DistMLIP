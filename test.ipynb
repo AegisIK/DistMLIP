{
 "cells": [
  {
   "cell_type": "code",
   "execution_count": 13,
   "id": "61428510",
   "metadata": {},
   "outputs": [],
   "source": [
    "import DistMLIP\n",
    "from pymatgen.core import Structure\n",
    "from pymatgen.io.ase import AseAtomsAdaptor\n",
    "import numpy as np"
   ]
  },
  {
   "cell_type": "code",
   "execution_count": 19,
   "id": "58213e21",
   "metadata": {},
   "outputs": [],
   "source": [
    "from DistMLIP.distributed.dist import Distributed"
   ]
  },
  {
   "cell_type": "code",
   "execution_count": null,
   "id": "2bbad11a",
   "metadata": {},
   "outputs": [],
   "source": [
    "LFP = Structure.from_file(\"/data/kevinxhan/dist_chgnet/LiFePO4.cif\")\n",
    "LFP.make_supercell((10, 10, 10))\n",
    "LFP_atoms = AseAtomsAdaptor().get_atoms(LFP)"
   ]
  },
  {
   "cell_type": "code",
   "execution_count": 22,
   "id": "e7cc175b",
   "metadata": {},
   "outputs": [
    {
     "name": "stdout",
     "output_type": "stream",
     "text": [
      "Bond graph is disabled and atom_cutoff is 5.000000. Total wall width is 4.891322 which is <= 2 * (atom_cutoff) (10.000000).\n",
      "A wall width that is <= 2 * (atom_cutoff) will be inefficient.\n",
      "You should reduce the # of partitions. If you cannot fit your system on a reduced # of partitions, then your system is probably too dense\n",
      "No vanilla distributed graph algorithm will be able to help you. Contact Kevin (kevinhan@cmu.edu) if you need help with this.\n"
     ]
    }
   ],
   "source": [
    "lattice_matrix = np.array(LFP_atoms.get_cell())\n",
    "cart_coords = np.array(LFP_atoms.get_positions(wrap=False))\n",
    "frac_coords = np.array(LFP_atoms.get_scaled_positions(wrap=True))\n",
    "\n",
    "pbc = np.array([1, 1, 1], dtype=int)\n",
    "num_partitions = 2\n",
    "\n",
    "dist_info = Distributed.create_distributed(cart_coords=cart_coords,\n",
    "                                            frac_coords=frac_coords,\n",
    "                                            lattice_matrix=lattice_matrix,\n",
    "                                            num_partitions=num_partitions,  \n",
    "                                            pbc=pbc,\n",
    "                                            use_bond_graph=False,\n",
    "                                            cutoff=5,\n",
    "                                            three_body_cutoff=0,\n",
    "                                            tol=1e-8,\n",
    "                                            num_threads=128\n",
    "                                        )"
   ]
  },
  {
   "cell_type": "code",
   "execution_count": 23,
   "id": "a9be2b77",
   "metadata": {},
   "outputs": [
    {
     "data": {
      "text/plain": [
       "<DistMLIP.distributed.dist.Distributed at 0x7fbf1452fd60>"
      ]
     },
     "execution_count": 23,
     "metadata": {},
     "output_type": "execute_result"
    }
   ],
   "source": [
    "dist_info"
   ]
  }
 ],
 "metadata": {
  "kernelspec": {
   "display_name": "matgl3",
   "language": "python",
   "name": "python3"
  },
  "language_info": {
   "codemirror_mode": {
    "name": "ipython",
    "version": 3
   },
   "file_extension": ".py",
   "mimetype": "text/x-python",
   "name": "python",
   "nbconvert_exporter": "python",
   "pygments_lexer": "ipython3",
   "version": "3.10.16"
  }
 },
 "nbformat": 4,
 "nbformat_minor": 5
}
