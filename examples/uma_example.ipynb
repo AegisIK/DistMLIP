{
 "cells": [
  {
   "cell_type": "code",
   "execution_count": null,
   "id": "ac535702",
   "metadata": {},
   "outputs": [],
   "source": [
    "from DistMLIP.implementations.uma.ase_calculator import FAIRChemCalculator_Dist\n",
    "from fairchem.core import FAIRChemCalculator\n",
    "\n",
    "from pymatgen.core import Structure, Lattice\n",
    "from pymatgen.io.ase import AseAtomsAdaptor\n",
    "\n",
    "import os"
   ]
  },
  {
   "cell_type": "code",
   "execution_count": null,
   "id": "51fb0229",
   "metadata": {},
   "outputs": [],
   "source": [
    "# Insert your atoms\n",
    "struct = Structure.from_spacegroup(\"Pm-3m\", Lattice.cubic(3.5), [\"Li\", \"Mn\"], [[0, 0, 0], [0.5, 0.5, 0.5]])\n",
    "struct.perturb(3)\n",
    "struct.make_supercell((30, 30, 30))\n",
    "print(f\"There are {len(struct)} atoms.\")\n",
    "atoms = AseAtomsAdaptor().get_atoms(struct)"
   ]
  },
  {
   "cell_type": "code",
   "execution_count": null,
   "id": "e6be78f2",
   "metadata": {},
   "outputs": [],
   "source": [
    "from fairchem.core import pretrained_mlip\n",
    "\n",
    "# Load the UMA model on cpu and update the device\n",
    "devices = [6, 7]\n",
    "predictor = pretrained_mlip.get_predict_unit(\"uma-s-1\", device=\"cpu\")\n",
    "\n",
    "# Set the device, this device should be the 0th device in the devices list\n",
    "predictor.device = f\"cuda:{devices[0]}\"\n",
    "\n",
    "# Create the FAIRChemCalculator, then make a distributed version\n",
    "dist_calc = FAIRChemCalculator(predictor, task_name=\"omol\")\n",
    "dist_calc = FAIRChemCalculator_Dist.from_existing(dist_calc)\n",
    "\n",
    "# Enable distributed mode and specify the GPUs to use\n",
    "dist_calc.enable_distributed_mode(devices)"
   ]
  },
  {
   "cell_type": "code",
   "execution_count": null,
   "id": "19a01c39",
   "metadata": {},
   "outputs": [],
   "source": [
    "# You can set the number of threads to use via environment variable\n",
    "os.environ[\"DISTMLIP_NUM_THREADS\"] = \"128\"\n",
    "\n",
    "# Performing a static calculation on the ASE atoms object\n",
    "dist_calc.calculate(atoms, properties=dist_calc.implemented_properties, system_changes=[])\n",
    "\n",
    "# Retrieiving results\n",
    "dist_calc.results['energy'], dist_calc.results['forces'], dist_calc.results['stress']"
   ]
  },
  {
   "cell_type": "code",
   "execution_count": null,
   "id": "0237836a",
   "metadata": {},
   "outputs": [],
   "source": [
    "# You can use FAIRChemCalculator_Dist the same way as FAIRChemCalculator. An example running MD simulation using ASE:\n",
    "from ase import units\n",
    "from ase.md.velocitydistribution import MaxwellBoltzmannDistribution\n",
    "from ase.md.verlet import VelocityVerlet\n",
    "\n",
    "MaxwellBoltzmannDistribution(atoms, temperature_K=300)\n",
    "atoms.calc = dist_calc\n",
    "\n",
    "dyn = VelocityVerlet(atoms, 0.5 * units.fs)\n",
    "\n",
    "dyn.run(10)"
   ]
  }
 ],
 "metadata": {
  "kernelspec": {
   "display_name": "distmlip",
   "language": "python",
   "name": "python3"
  },
  "language_info": {
   "codemirror_mode": {
    "name": "ipython",
    "version": 3
   },
   "file_extension": ".py",
   "mimetype": "text/x-python",
   "name": "python",
   "nbconvert_exporter": "python",
   "pygments_lexer": "ipython3",
   "version": "3.10.16"
  }
 },
 "nbformat": 4,
 "nbformat_minor": 5
}
