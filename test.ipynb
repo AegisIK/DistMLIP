{
 "cells": [
  {
   "cell_type": "code",
   "execution_count": null,
   "id": "0",
   "metadata": {},
   "outputs": [],
   "source": [
    "from pymatgen.core import Structure\n",
    "from pymatgen.io.ase import AseAtomsAdaptor\n",
    "import numpy as np\n",
    "import random"
   ]
  },
  {
   "cell_type": "code",
   "execution_count": null,
   "id": "2",
   "metadata": {},
   "outputs": [],
   "source": [
    "LFP = Structure.from_file(\"/data/kevinxhan/dist_chgnet/LiFePO4.cif\")"
   ]
  },
  {
   "cell_type": "code",
   "execution_count": null,
   "id": "1fbec501",
   "metadata": {},
   "outputs": [],
   "source": [
    "s = LFP.make_supercell((10, 10, 10), in_place=False)\n",
    "print(\"# of atoms in system:\", len(s))\n",
    "print(s.composition)\n",
    "print(s.lattice)\n",
    "n_Li = 4000\n",
    "site_indices_to_remove = random.sample(range(0,n_Li), int(n_Li/2))\n",
    "s.remove_sites(site_indices_to_remove)\n",
    "print(s.composition)\n",
    "print(\"# of atoms in system:\", len(s))\n",
    "supercell = s.make_supercell([2, 1, 1], in_place=False)\n",
    "print(\"# of atoms in system:\", len(supercell))\n",
    "print(supercell.composition)\n",
    "print(supercell.lattice)\n",
    "LFP_atoms = AseAtomsAdaptor().get_atoms(supercell)\n",
    "print(len(LFP_atoms))"
   ]
  },
  {
   "cell_type": "code",
   "execution_count": null,
   "id": "41dd03b0",
   "metadata": {},
   "outputs": [],
   "source": [
    "import matgl\n",
    "from DistMLIP.implementations.matgl import Potential_Dist, PESCalculator_Dist\n",
    "from DistMLIP.implementations.matgl import CHGNet_Dist, TensorNet_Dist\n",
    "from DistMLIP.implementations.matgl import MolecularDynamics, Relaxer\n",
    "\n",
    "\n",
    "model = matgl.load_model('/data/shared/Bowen_data/Kevin/TensorNet-MatPES-r2SCAN-2025.4.22-PES-0.3M').model\n",
    "dist_model = TensorNet_Dist.from_existing(model).eval()\n",
    "dist_model.enable_distributed_mode([\"cpu\", 7])\n"
   ]
  },
  {
   "cell_type": "code",
   "execution_count": null,
   "id": "e1e6720b",
   "metadata": {},
   "outputs": [],
   "source": [
    "pes = Potential_Dist(model=dist_model, num_threads=128)"
   ]
  },
  {
   "cell_type": "code",
   "execution_count": null,
   "id": "7fefc61d",
   "metadata": {},
   "outputs": [],
   "source": [
    "model.linear_dist.weight.device"
   ]
  },
  {
   "cell_type": "code",
   "execution_count": null,
   "id": "3289e351",
   "metadata": {},
   "outputs": [],
   "source": [
    "driver = MolecularDynamics(\n",
    "    LFP_atoms,\n",
    "    potential=pes,\n",
    "    timestep=2,\n",
    "    temperature=1000,\n",
    "    # logfile=\"H2O_0.1M_1000k.log\",\n",
    "    # trajectory=\"H2O_0.1M_1000k.traj\",\n",
    "    loginterval=100000\n",
    ")\n",
    "\n",
    "driver.run(2000)"
   ]
  },
  {
   "cell_type": "code",
   "execution_count": null,
   "id": "c9cbc88b",
   "metadata": {},
   "outputs": [],
   "source": [
    "import re\n",
    "import matplotlib.pyplot as plt\n",
    "\n",
    "# Read file content into a string\n",
    "with open('nohup.out', 'r') as file:\n",
    "    data = file.read()\n",
    "\n",
    "# Regex patterns\n",
    "allocated_pattern = re.compile(r\"Allocated \\(GB\\): \\[([^\\]]+)\\]\")\n",
    "reserved_pattern = re.compile(r\"Reserved\\s+\\(GB\\): \\[([^\\]]+)\\]\")\n",
    "distributed_pattern = re.compile(r\"Distributed object creation: ([\\d.]+)\")\n",
    "step_time_pattern = re.compile(r\"Step time: ([\\d.]+)\")\n",
    "\n",
    "# Extract values\n",
    "allocated_matches = allocated_pattern.findall(data)\n",
    "reserved_matches = reserved_pattern.findall(data)\n",
    "distributed_times = [float(x) for x in distributed_pattern.findall(data)]\n",
    "step_times = [3] + [float(x) for x in step_time_pattern.findall(data)]\n",
    "\n",
    "# Compute averages\n",
    "average_allocated = []\n",
    "average_reserved = []\n",
    "\n",
    "for alloc, resv in zip(allocated_matches, reserved_matches):\n",
    "    alloc_vals = [float(val.strip().strip(\"'\")) for val in alloc.split(',')]\n",
    "    resv_vals = [float(val.strip().strip(\"'\")) for val in resv.split(',')]\n",
    "    average_allocated.append(sum(alloc_vals) / len(alloc_vals))\n",
    "    average_reserved.append(sum(resv_vals) / len(resv_vals))\n",
    "\n",
    "# Time steps\n",
    "steps = list(range(len(average_allocated)))\n",
    "\n",
    "# Plot 1: Memory usage\n",
    "plt.figure(figsize=(12, 5))\n",
    "plt.subplot(1, 2, 1)\n",
    "plt.plot(steps, average_allocated, label='Avg Allocated Memory', linewidth=2)\n",
    "plt.plot(steps, average_reserved, label='Avg Reserved Memory', linewidth=2)\n",
    "plt.title('Memory Usage per Step')\n",
    "plt.xlabel('Step')\n",
    "plt.ylabel('Memory (GB)')\n",
    "plt.legend()\n",
    "plt.grid(True)\n",
    "\n",
    "# Plot 2: Timing info\n",
    "plt.subplot(1, 2, 2)\n",
    "plt.plot(steps, distributed_times, label='Distributed Object Creation Time', linewidth=2)\n",
    "plt.plot(steps, step_times, label='Total Step Time', linestyle='--', linewidth=2)\n",
    "plt.title('Timing Information per Step')\n",
    "plt.xlabel('Step')\n",
    "plt.ylabel('Time (s)')\n",
    "plt.legend()\n",
    "plt.grid(True)\n",
    "\n",
    "plt.tight_layout()\n",
    "plt.show()\n"
   ]
  },
  {
   "cell_type": "code",
   "execution_count": null,
   "id": "09c190fa",
   "metadata": {},
   "outputs": [],
   "source": []
  }
 ],
 "metadata": {
  "kernelspec": {
   "display_name": "distmlip",
   "language": "python",
   "name": "python3"
  },
  "language_info": {
   "codemirror_mode": {
    "name": "ipython",
    "version": 3
   },
   "file_extension": ".py",
   "mimetype": "text/x-python",
   "name": "python",
   "nbconvert_exporter": "python",
   "pygments_lexer": "ipython3",
   "version": "3.10.16"
  }
 },
 "nbformat": 4,
 "nbformat_minor": 5
}
