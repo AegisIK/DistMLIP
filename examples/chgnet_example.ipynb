{
 "cells": [
  {
   "cell_type": "code",
   "execution_count": 1,
   "id": "78e0bcce",
   "metadata": {},
   "outputs": [
    {
     "name": "stderr",
     "output_type": "stream",
     "text": [
      "/data/kevinxhan/miniconda3/envs/distmlip/lib/python3.10/site-packages/tqdm/auto.py:21: TqdmWarning: IProgress not found. Please update jupyter and ipywidgets. See https://ipywidgets.readthedocs.io/en/stable/user_install.html\n",
      "  from .autonotebook import tqdm as notebook_tqdm\n"
     ]
    }
   ],
   "source": [
    "from DistMLIP.implementations.matgl import CHGNet_Dist, Potential_Dist, MolecularDynamics, Relaxer\n",
    "import matgl\n",
    "from pymatgen.core import Structure, Lattice\n",
    "from pymatgen.io.ase import AseAtomsAdaptor"
   ]
  },
  {
   "cell_type": "code",
   "execution_count": 2,
   "id": "e8f201e9",
   "metadata": {},
   "outputs": [],
   "source": [
    "# Initialize a CHGNet_Dist model (because CHGNet_Dist inherits from matgl's CHGNet class, model finetuning, training, etc. all work the exact same as in MatGL)\n",
    "model = CHGNet_Dist()\n",
    "\n",
    "# Load a previous CHGNet model from matgl\n",
    "model = matgl.load_model(\"CHGNet-MatPES-PBE-2025.2.10-2.7M-PES\").model\n",
    "\n",
    "# Make a distributed version of the model\n",
    "dist_model = CHGNet_Dist.from_existing(model)\n",
    "\n",
    "# Enable distributed mode for 2 GPUs\n",
    "dist_model.enable_distributed_mode([6, 7]) "
   ]
  },
  {
   "cell_type": "code",
   "execution_count": null,
   "id": "017f8d12",
   "metadata": {},
   "outputs": [],
   "source": [
    "# Insert your atoms\n",
    "struct = Structure.from_spacegroup(\"Pm-3m\", Lattice.cubic(5.5), [\"Li\", \"Mn\"], [[0, 0, 0], [0.5, 0.5, 0.5]])\n",
    "struct.perturb(0.5)\n",
    "struct.make_supercell((20, 20, 20))\n",
    "print(f\"There are {len(struct)} atoms.\")\n",
    "atoms = AseAtomsAdaptor().get_atoms(struct)\n"
   ]
  },
  {
   "cell_type": "code",
   "execution_count": null,
   "id": "46dec71d",
   "metadata": {},
   "outputs": [],
   "source": [
    "# Create Potential_Dist object, use 128 threads when creating graph structures\n",
    "potential = Potential_Dist(model=dist_model, num_threads=128)"
   ]
  },
  {
   "cell_type": "code",
   "execution_count": null,
   "id": "448eea94",
   "metadata": {},
   "outputs": [],
   "source": [
    "# Run structure relaxation\n",
    "relaxer = Relaxer(\n",
    "    potential=potential,\n",
    "    optimizer=\"FIRE\",\n",
    "    relax_cell=True\n",
    ")\n",
    "\n",
    "results = relaxer.relax(atoms, verbose=True, steps=200)"
   ]
  },
  {
   "cell_type": "code",
   "execution_count": null,
   "id": "e865caea",
   "metadata": {},
   "outputs": [],
   "source": [
    "# Run molecular dynamics\n",
    "driver = MolecularDynamics(\n",
    "    atoms,\n",
    "    potential=potential,\n",
    "    timestep=0.5,\n",
    "    temperature=300,\n",
    "    loginterval=200,\n",
    "    logfile=\"logfile.log\",\n",
    "    trajectory=\"traj.trj\"\n",
    ")\n",
    "\n",
    "driver.run(20)"
   ]
  }
 ],
 "metadata": {
  "kernelspec": {
   "display_name": "distmlip",
   "language": "python",
   "name": "python3"
  },
  "language_info": {
   "codemirror_mode": {
    "name": "ipython",
    "version": 3
   },
   "file_extension": ".py",
   "mimetype": "text/x-python",
   "name": "python",
   "nbconvert_exporter": "python",
   "pygments_lexer": "ipython3",
   "version": "3.10.16"
  }
 },
 "nbformat": 4,
 "nbformat_minor": 5
}
