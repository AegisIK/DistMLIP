{
 "cells": [
  {
   "cell_type": "code",
   "execution_count": null,
   "id": "78e0bcce",
   "metadata": {},
   "outputs": [],
   "source": [
    "from DistMLIP.implementations.matgl import CHGNet_Dist, Potential_Dist, MolecularDynamics, Relaxer\n",
    "import matgl\n",
    "from pymatgen.core import Structure, Lattice\n",
    "from pymatgen.io.ase import AseAtomsAdaptor"
   ]
  },
  {
   "cell_type": "code",
   "execution_count": null,
   "id": "e8f201e9",
   "metadata": {},
   "outputs": [],
   "source": [
    "# Initialize a CHGNet_Dist model (because CHGNet_Dist inherits from matgl's CHGNet class, model finetuning, training, etc. all work the exact same as in MatGL)\n",
    "model = CHGNet_Dist()\n",
    "\n",
    "# Load a previous CHGNet model from matgl\n",
    "model = matgl.load_model(\"CHGNet-MatPES-PBE-2025.2.10-2.7M-PES\").model\n",
    "\n",
    "# Make a distributed version of the model\n",
    "dist_model = CHGNet_Dist.from_existing(model)\n",
    "\n",
    "# Enable distributed mode for 2 GPUs\n",
    "dist_model.enable_distributed_mode([0, 1]) "
   ]
  },
  {
   "cell_type": "code",
   "execution_count": null,
   "id": "017f8d12",
   "metadata": {},
   "outputs": [],
   "source": [
    "# Insert your atoms\n",
    "struct = Structure.from_spacegroup(\"Pm-3m\", Lattice.cubic(4), [\"Li\", \"Mn\"], [[0, 0, 0], [0.5, 0.5, 0.5]])\n",
    "struct.perturb(0.5)\n",
    "struct.make_supercell((30, 30, 30))\n",
    "print(f\"There are {len(struct)} atoms.\")\n",
    "atoms = AseAtomsAdaptor().get_atoms(struct)\n"
   ]
  },
  {
   "cell_type": "code",
   "execution_count": null,
   "id": "46dec71d",
   "metadata": {},
   "outputs": [],
   "source": [
    "# Create Potential_Dist object, use 128 threads when creating graph structures\n",
    "potential = Potential_Dist(model=dist_model, num_threads=128)"
   ]
  },
  {
   "cell_type": "code",
   "execution_count": null,
   "id": "e865caea",
   "metadata": {},
   "outputs": [],
   "source": [
    "# Run molecular dynamics\n",
    "driver = MolecularDynamics(\n",
    "    atoms,\n",
    "    potential=potential,\n",
    "    timestep=0.5,\n",
    "    temperature=300,\n",
    "    loginterval=200,\n",
    "    logfile=\"logfile.log\",\n",
    "    trajectory=\"traj.trj\"\n",
    ")\n",
    "\n",
    "driver.run(20)"
   ]
  },
  {
   "cell_type": "code",
   "execution_count": null,
   "id": "8db46885",
   "metadata": {},
   "outputs": [],
   "source": [
    "# Run structure relaxation"
   ]
  }
 ],
 "metadata": {
  "kernelspec": {
   "display_name": "matgl3",
   "language": "python",
   "name": "python3"
  },
  "language_info": {
   "codemirror_mode": {
    "name": "ipython",
    "version": 3
   },
   "file_extension": ".py",
   "mimetype": "text/x-python",
   "name": "python",
   "nbconvert_exporter": "python",
   "pygments_lexer": "ipython3",
   "version": "3.10.16"
  }
 },
 "nbformat": 4,
 "nbformat_minor": 5
}
