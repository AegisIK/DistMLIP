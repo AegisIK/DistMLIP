{
 "cells": [
  {
   "cell_type": "code",
   "execution_count": null,
   "id": "b99feb0b",
   "metadata": {},
   "outputs": [],
   "source": [
    "from DistMLIP.implementations.mace import MACECalculator_Dist\n",
    "from mace.calculators import mace_mp\n",
    "\n",
    "import matgl\n",
    "from pymatgen.core import Structure, Lattice\n",
    "from pymatgen.io.ase import AseAtomsAdaptor"
   ]
  },
  {
   "cell_type": "code",
   "execution_count": null,
   "id": "a191b443",
   "metadata": {},
   "outputs": [],
   "source": [
    "# Insert your atoms\n",
    "struct = Structure.from_spacegroup(\"Pm-3m\", Lattice.cubic(3.5), [\"Li\", \"Mn\"], [[0, 0, 0], [0.5, 0.5, 0.5]])\n",
    "struct.perturb(0.5)\n",
    "struct.make_supercell((30, 30, 30))\n",
    "print(f\"There are {len(struct)} atoms.\")\n",
    "atoms = AseAtomsAdaptor().get_atoms(struct)"
   ]
  },
  {
   "cell_type": "code",
   "execution_count": null,
   "id": "7ea05d59",
   "metadata": {},
   "outputs": [],
   "source": [
    "# Load/create a previously trained MACECalculator on cpu\n",
    "from mace.calculators import mace_mp\n",
    "\n",
    "calc = mace_mp(model=\"small\", device=\"cpu\", enable_cueq=True)\n",
    "\n",
    "\n",
    "# Make a distributed version of the calculator \n",
    "dist_calc = MACECalculator_Dist.from_existing(calc)\n",
    "dist_calc.models[0].time_dict = {}\n",
    "# Enable distributed mode and specify the GPUs to use\n",
    "dist_calc.enable_distributed_mode([0, 1])\n"
   ]
  },
  {
   "cell_type": "code",
   "execution_count": null,
   "id": "aedcb163",
   "metadata": {},
   "outputs": [],
   "source": [
    "# You can use MACECalculator_Dist the same way as MACECalculator. An example using DistMLIP's MolecularDynamics class:\n",
    "from DistMLIP.implementations.matgl import MolecularDynamics\n",
    "\n",
    "driver = MolecularDynamics(\n",
    "    atoms,\n",
    "    potential=dist_calc,\n",
    "    timestep=0.5,\n",
    "    temperature=300,\n",
    "    loginterval=200\n",
    ")\n",
    "\n",
    "driver.run(20)"
   ]
  }
 ],
 "metadata": {
  "kernelspec": {
   "display_name": "distmlip",
   "language": "python",
   "name": "python3"
  },
  "language_info": {
   "codemirror_mode": {
    "name": "ipython",
    "version": 3
   },
   "file_extension": ".py",
   "mimetype": "text/x-python",
   "name": "python",
   "nbconvert_exporter": "python",
   "pygments_lexer": "ipython3",
   "version": "3.10.16"
  }
 },
 "nbformat": 4,
 "nbformat_minor": 5
}
